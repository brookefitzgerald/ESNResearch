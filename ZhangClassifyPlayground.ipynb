{
 "cells": [
  {
   "cell_type": "code",
   "execution_count": 1,
   "metadata": {
    "collapsed": false
   },
   "outputs": [],
   "source": [
    "import numpy as np\n",
    "import pandas as pd\n",
    "import random as rand\n",
    "from scipy import linalg\n",
    "from scipy.sparse.linalg import eigs, LinearOperator\n",
    "from scipy.sparse import random\n",
    "from scipy.optimize import brute\n",
    "import scipy.stats as stats\n",
    "from os import listdir,getcwd\n",
    "from functools import partial\n",
    "import matplotlib.pyplot as plt\n",
    "from matplotlib.cm import get_cmap\n",
    "from matplotlib.patches import Rectangle\n",
    "from collections import OrderedDict\n",
    "import pandas as pd\n",
    "%matplotlib inline"
   ]
  },
  {
   "cell_type": "code",
   "execution_count": null,
   "metadata": {
    "collapsed": false,
    "scrolled": true
   },
   "outputs": [],
   "source": [
    "zhang_dir = getcwd()+'\\\\ZhangData'\n",
    "data = np.zeros(132, dtype=[('neuron_id','a13'),\n",
    "                                ('raster_data',np.float32,(419,1000)),\n",
    "                                ('raster_info','a20',4),\n",
    "                                ('stimulus_id','a15',419),\n",
    "                                ('stimulus_position','a15',419),\n",
    "                                ('combined_id_position','a15',419)])\n",
    "\n",
    "for i,data_dir in enumerate(listdir(zhang_dir)):\n",
    "    raster_data, raster_info, raster_labels = [zhang_dir+'\\\\'+data_dir+'\\\\'+my_dir for my_dir in listdir(zhang_dir+'\\\\'+data_dir)]\n",
    "    neuron_id = data_dir[0:(len(data_dir)-12)]\n",
    "    data_arr = pd.read_csv(raster_data,header=None).values\n",
    "    labels_arr = pd.read_csv(raster_labels,header=0).values\n",
    "    if data_arr.shape == (420,1000):\n",
    "        data_arr = data_arr[0:(len(data_arr)-1)]\n",
    "        labels_arr = labels_arr[0:(len(labels_arr)-1)]\n",
    "    data[i] = (neuron_id, data_arr, pd.read_csv(raster_info).values, labels_arr[:,0],labels_arr[:,1],labels_arr[:,2])"
   ]
  },
  {
   "cell_type": "code",
   "execution_count": null,
   "metadata": {
    "collapsed": false
   },
   "outputs": [],
   "source": [
    "[x[0]  for x in data[['neuron_id']][0:3]]\n",
    "\n",
    "#Get fourth run from first 3 neurons\n",
    "[plt.plot(x[0][4]) for x in data[['raster_data']][0:3]]\n",
    "plt.show()\n",
    "[x[0] for x in data[['neuron_id']][0:3]]"
   ]
  },
  {
   "cell_type": "code",
   "execution_count": null,
   "metadata": {
    "collapsed": false
   },
   "outputs": [],
   "source": [
    "## for multiple neurons\n",
    "y=[x['raster_data'][x[0]=='hand'] for x in data[['stimulus_id','raster_data']][:][:]]\n",
    "plt.plot(y[0][0])\n",
    "plt.plot(y[0][1])\n",
    "plt.show()\n",
    "#for single neurons\n",
    "#[x[:,0] for x in data[['stimulus_id','raster_data']][0][0]]"
   ]
  },
  {
   "cell_type": "code",
   "execution_count": null,
   "metadata": {
    "collapsed": false
   },
   "outputs": [],
   "source": [
    "[plt.plot(x) for x in data['raster_data'][0][data['stimulus_id'][0]=='hand'][0:2]]\n",
    "plt.show()\n",
    "[plt.plot(x) for x in data['raster_data'][0][[0,9],:]]\n",
    "plt.show()"
   ]
  },
  {
   "cell_type": "code",
   "execution_count": 2,
   "metadata": {
    "collapsed": false
   },
   "outputs": [
    {
     "ename": "NameError",
     "evalue": "name 'data' is not defined",
     "output_type": "error",
     "traceback": [
      "\u001b[1;31m---------------------------------------------------------------------------\u001b[0m",
      "\u001b[1;31mNameError\u001b[0m                                 Traceback (most recent call last)",
      "\u001b[1;32m<ipython-input-2-f36b1a40fdbe>\u001b[0m in \u001b[0;36m<module>\u001b[1;34m()\u001b[0m\n\u001b[0;32m     11\u001b[0m \u001b[1;33m\u001b[0m\u001b[0m\n\u001b[0;32m     12\u001b[0m \u001b[1;33m\u001b[0m\u001b[0m\n\u001b[1;32m---> 13\u001b[1;33m \u001b[1;32mdef\u001b[0m \u001b[0maddExponentialDecay\u001b[0m\u001b[1;33m(\u001b[0m\u001b[0mspeed\u001b[0m\u001b[1;33m,\u001b[0m\u001b[0md\u001b[0m\u001b[1;33m=\u001b[0m\u001b[0mdata\u001b[0m\u001b[1;33m)\u001b[0m\u001b[1;33m:\u001b[0m\u001b[1;33m\u001b[0m\u001b[0m\n\u001b[0m\u001b[0;32m     14\u001b[0m     \u001b[0maddExpDecay\u001b[0m \u001b[1;33m=\u001b[0m \u001b[0mpartial\u001b[0m\u001b[1;33m(\u001b[0m\u001b[0maddExponentialDecayToNeuronRead\u001b[0m\u001b[1;33m,\u001b[0m \u001b[0mrate_of_exp_decrease\u001b[0m \u001b[1;33m=\u001b[0m \u001b[0mspeed\u001b[0m\u001b[1;33m)\u001b[0m\u001b[1;33m\u001b[0m\u001b[0m\n\u001b[0;32m     15\u001b[0m     \u001b[1;32mfor\u001b[0m \u001b[0mneuron\u001b[0m \u001b[1;32min\u001b[0m \u001b[0md\u001b[0m\u001b[1;33m:\u001b[0m\u001b[1;33m\u001b[0m\u001b[0m\n",
      "\u001b[1;31mNameError\u001b[0m: name 'data' is not defined"
     ]
    }
   ],
   "source": [
    "def addExponentialDecayToNeuronRead(neuron_read, rate_of_exp_decrease):\n",
    "    activation = 0.0\n",
    "    for i,x in enumerate(neuron_read):\n",
    "        if x==1.0:\n",
    "            activation+=1.0\n",
    "        elif ((x==0.0) and (activation>0.0)):\n",
    "            activation *= rate_of_exp_decrease\n",
    "        if activation<0.:\n",
    "            activation=0.\n",
    "        neuron_read[i]=activation\n",
    "\n",
    "\n",
    "def addExponentialDecay(speed,d=data):\n",
    "    addExpDecay = partial(addExponentialDecayToNeuronRead, rate_of_exp_decrease = speed)\n",
    "    for neuron in d:\n",
    "        np.apply_along_axis(addExpDecay, axis = 1, arr = neuron['raster_data'])"
   ]
  },
  {
   "cell_type": "code",
   "execution_count": null,
   "metadata": {
    "collapsed": false
   },
   "outputs": [],
   "source": [
    "index_1018=data['raster_info'][:,3]=='1018'\n",
    "index_1018"
   ]
  },
  {
   "cell_type": "code",
   "execution_count": null,
   "metadata": {
    "collapsed": false
   },
   "outputs": [],
   "source": [
    "index_1018=data['raster_info'][:,3]=='1018'\n",
    "data_1018 = np.zeros(11, dtype=[('neuron_id','a13'),\n",
    "                                ('raster_data',np.float32,(419,1000)),\n",
    "                                ('raster_info','a20',4),\n",
    "                                ('stimulus_id','a15',419),\n",
    "                                ('stimulus_position','a15',419),\n",
    "                                ('combined_id_position','a15',419)])\n",
    "data_1018[np.arange(11)] = data[index_1018]"
   ]
  },
  {
   "cell_type": "code",
   "execution_count": null,
   "metadata": {
    "collapsed": true
   },
   "outputs": [],
   "source": [
    "np.save('data_1018',data_1018)"
   ]
  },
  {
   "cell_type": "code",
   "execution_count": null,
   "metadata": {
    "collapsed": false
   },
   "outputs": [],
   "source": [
    "def reshapeSignalsToOneTimeTrace(signal):\n",
    "    (nUnits, nRuns, nTime) = signal.shape\n",
    "    single_trace_signal = np.zeros((nUnits,nRuns*nTime))\n",
    "    for i in np.arange(nRuns):\n",
    "        single_trace_signal[:,(i*nTime):(i*nTime+nTime)] = signal[:,i,:].reshape((nUnits,nTime))\n",
    "    return(single_trace_signal)"
   ]
  },
  {
   "cell_type": "code",
   "execution_count": null,
   "metadata": {
    "collapsed": false,
    "scrolled": true
   },
   "outputs": [],
   "source": [
    "seen = dict(zip(np.unique(data['raster_info'][:,3]),np.zeros(21)))\n",
    "for runid in data['raster_info'][:,3]:\n",
    "    seen[runid] = seen[runid]+1\n",
    "    \n",
    "seen"
   ]
  },
  {
   "cell_type": "code",
   "execution_count": null,
   "metadata": {
    "collapsed": false
   },
   "outputs": [],
   "source": [
    "teach = createTeacherSignal(data_1018)[0]"
   ]
  },
  {
   "cell_type": "code",
   "execution_count": null,
   "metadata": {
    "collapsed": false
   },
   "outputs": [],
   "source": [
    "names=['car', 'couch', 'face', 'flower', 'guitar', 'hand', 'kiwi']\n",
    "stim_num = 8\n",
    "x = [plt.plot(x[stim_num,:], label = names[i]) for i,x in enumerate(teach)]\n",
    "print('Number of output nodes: '+str(len(x)))\n",
    "print('Stimulus shown: '+data_1018[0]['stimulus_id'][stim_num])\n",
    "plt.legend()\n",
    "plt.show()"
   ]
  },
  {
   "cell_type": "code",
   "execution_count": null,
   "metadata": {
    "collapsed": false
   },
   "outputs": [],
   "source": [
    "teach_test = reshapeSignalsToOneTimeTrace(teach)\n",
    "one_signal_data_test = reshapeSignalsToOneTimeTrace(test_data['raster_data'])"
   ]
  },
  {
   "cell_type": "code",
   "execution_count": null,
   "metadata": {
    "collapsed": false
   },
   "outputs": [],
   "source": [
    "teach_test.shape\n",
    "one_signal_data_test.shape"
   ]
  },
  {
   "cell_type": "code",
   "execution_count": null,
   "metadata": {
    "collapsed": false
   },
   "outputs": [],
   "source": [
    "x = [plt.plot(x, label = names[i]) for i,x in enumerate(teach_test[:,0:5000])]\n",
    "plt.legend()\n",
    "plt.show()\n",
    "\n",
    "neuron_ids = ['1','2','3','4','5','6','7','8','9','10','11']\n",
    "x = [plt.plot(x,label = neuron_ids[i]) for i,x in enumerate(one_signal_data_test[:,0:5000])]\n",
    "plt.legend()\n",
    "plt.show()"
   ]
  },
  {
   "cell_type": "code",
   "execution_count": null,
   "metadata": {
    "collapsed": true
   },
   "outputs": [],
   "source": [
    "def autolabel(rects):\n",
    "    \"\"\"\n",
    "    Attach a text label above each bar displaying its height\n",
    "    \"\"\"\n",
    "    for rect in rects:\n",
    "        height = rect.get_height()\n",
    "        ax.text(rect.get_x() + rect.get_width()/2., 1.05*height,\n",
    "                '%d' % int(height),\n",
    "                ha='center', va='bottom')"
   ]
  },
  {
   "cell_type": "code",
   "execution_count": 36,
   "metadata": {
    "collapsed": false
   },
   "outputs": [],
   "source": [
    "%matplotlib inline"
   ]
  },
  {
   "cell_type": "code",
   "execution_count": 50,
   "metadata": {
    "collapsed": false
   },
   "outputs": [],
   "source": [
    "data_exp_decay_1018 = np.load('data_1018.npy')\n",
    "def getSpecificStimulus(sid, neuron_index = None, d=data_exp_decay_1018):\n",
    "    if neuron_index==None:\n",
    "        to_return = [x['raster_data'][x[0]==sid] for x in d[['stimulus_id','raster_data']][:][:]]\n",
    "    else:\n",
    "        to_return = [x['raster_data'][x[0]==sid] for x in d[['stimulus_id','raster_data']][neuron_index][:]]\n",
    "    return(to_return)\n",
    "\n",
    "def addExponentialDecayToNeuronRead(neuron_read, rate_of_exp_decrease):\n",
    "    activation = 0.0\n",
    "    for i,x in enumerate(neuron_read):\n",
    "        if x==1.0:\n",
    "            activation+=1.0\n",
    "        elif ((x==0.0) and (activation>0.0)):\n",
    "            activation *= rate_of_exp_decrease\n",
    "        if activation<0.:\n",
    "            activation=0.\n",
    "        neuron_read[i]=activation\n",
    "\n",
    "def addExponentialDecay(speed,d=data_exp_decay_1018):\n",
    "    addExpDecay = partial(addExponentialDecayToNeuronRead, rate_of_exp_decrease = speed)\n",
    "    for neuron in d:\n",
    "        np.apply_along_axis(addExpDecay, axis = 1, arr = neuron['raster_data'])\n",
    "    np.max(d['raster_data'])\n",
    "\n",
    "def createBriefTeacherSignal(d=data_exp_decay_1018):\n",
    "    ind_dict = dict(zip(['car', 'couch', 'face', 'flower', 'guitar', 'hand', 'kiwi'],np.arange(7)))\n",
    "    teacher_signal = np.zeros(len(d), dtype = (np.float32,(7,419,1000)))\n",
    "    increase = [1.0/(1.0+np.exp(-0.7*x)) for x in np.linspace(-10,10,100)]\n",
    "    decrease = [1.0/(1.0+np.exp(0.7*x)) for x in np.linspace(-10,10,100)]\n",
    "    for i, neuron in enumerate(d):\n",
    "        for j in np.arange(419):\n",
    "            stimulus_index = ind_dict[neuron['stimulus_id'][j]]\n",
    "            stimulus_shown = int(neuron['raster_info'][0])\n",
    "            teacher_signal[stimulus_index][i][stimulus_shown:stimulus_shown+100] = increase\n",
    "            teacher_signal[stimulus_index][i][stimulus_shown+100:stimulus_shown+200] = decrease\n",
    "\n",
    "    return (teacher_signal)\n",
    "\n",
    "def createExtendedTeacherSignal(d=data_exp_decay_1018):\n",
    "    ind_dict = dict(zip(['car', 'couch', 'face', 'flower', 'guitar', 'hand', 'kiwi'],np.arange(7)))\n",
    "    teacher_signal = np.zeros(len(d), dtype = (np.float32,(7,419,1000)))\n",
    "    increase = [1.0/(1.0+np.exp(-0.7*x)) for x in np.linspace(-10,10,100)]\n",
    "    for i, neuron in enumerate(d):\n",
    "        for j in np.arange(419):\n",
    "            stimulus_index = ind_dict[neuron['stimulus_id'][j]]\n",
    "            stimulus_shown = int(neuron['raster_info'][0])\n",
    "            teacher_signal[stimulus_index][i][stimulus_shown:(stimulus_shown+100)] = increase\n",
    "            teacher_signal[stimulus_index][i][(stimulus_shown+100):1000] = 1.0\n",
    "\n",
    "    return (teacher_signal)\n",
    "\n",
    "def createTimeSensitiveTeacherSignal(d=data_exp_decay_1018, num_bins = 10):\n",
    "    ind_dict = dict(zip(['car', 'couch', 'face', 'flower', 'guitar', 'hand', 'kiwi'],np.arange(7)))\n",
    "    teacher_signal = np.zeros((7*num_bins,419,1000))\n",
    "    neuron = d[0]\n",
    "    for j in np.arange(419):\n",
    "        stimulus_num = ind_dict[neuron['stimulus_id'][j]]\n",
    "        start_index = stimulus_num*num_bins\n",
    "        stimulus_shown = int(neuron['raster_info'][0])\n",
    "        bin_size = int((1000-stimulus_shown)/num_bins)\n",
    "        for i in np.arange(start_index,start_index+num_bins):\n",
    "            start = stimulus_shown+(i%num_bins)*bin_size\n",
    "            teacher_signal[i,j,start:start+bin_size] = 1.0\n",
    "    return (teacher_signal)    \n",
    "\n",
    "def reshapeSignalsToOneTimeTrace(signal):\n",
    "    (nUnits, nRuns, nTime) = signal.shape\n",
    "    single_trace_signal = np.zeros((nUnits,nRuns*nTime))\n",
    "    for i in np.arange(nRuns):\n",
    "        single_trace_signal[:,(i*nTime):(i*nTime+nTime)] = signal[:,i,:].reshape((nUnits,nTime))\n",
    "    return(single_trace_signal)\n",
    "\n",
    "def calculateTotalAccuracy(y_target,y,nToSkip = 100):\n",
    "    n_outputs = int(y_target.shape[0])\n",
    "    n_bins = n_outputs/7\n",
    "    n_time_steps = int(y_target.shape[1])\n",
    "    n_cases = n_time_steps/1000\n",
    "    time_additive_traces = np.zeros((7,500))\n",
    "    tot_runs = 0.\n",
    "    bin_acc = np.zeros(n_bins)\n",
    "    bin_size = 500/n_bins\n",
    "    for j in np.arange((1000-nToSkip)%1000,n_time_steps,1000):\n",
    "        start = j+500\n",
    "        for i in np.arange(7):\n",
    "            time_additive_traces[i,0:bin_size] = y[i*n_bins,start:start+bin_size]\n",
    "            for k in np.arange(1,n_bins):\n",
    "                time_additive_traces[i,k*bin_size:(bin_size+k*bin_size)] = reduce(lambda a,b: a+b,\n",
    "                                                                                  y[i*n_bins+np.arange(0,k+1),start+k*bin_size:(start+bin_size+k*bin_size)])\n",
    "        if tot_runs==0.:\n",
    "            [plt.plot(x, c= stim_colors[i]) for i,x in enumerate(time_additive_traces)]\n",
    "            plt.show()\n",
    "        predicted = [np.argmax(np.sum(time_additive_traces[:,i*bin_size:i*bin_size+bin_size],axis=1)/bin_size) for i in np.arange(n_bins)]\n",
    "        correct=np.argmax([1. in i for i in y_target[:,start:start+500]])/n_bins\n",
    "        bin_acc+=[1. if correct==predicted[i] else 0. for i in np.arange(n_bins)]\n",
    "        tot_runs += 1.0\n",
    "    return(max(bin_acc)/tot_runs,bin_acc/tot_runs)"
   ]
  },
  {
   "cell_type": "code",
   "execution_count": null,
   "metadata": {
    "collapsed": false,
    "scrolled": true
   },
   "outputs": [],
   "source": [
    "added_traces = np.zeros((7,500))\n",
    "for i in np.arange(7):\n",
    "    added_traces[i] = reduce(lambda a,b: a+b, Y[i*35/7:i*35/7+35/7,500:1000])\n",
    "[plt.plot(trace,c=cols[i]) for i,trace in enumerate(added_traces)]\n",
    "plt.show()\n",
    "[plt.plot(trace, c= rep_cols[i]) for i,trace in enumerate(Y[:,500:1000])]\n",
    "plt.show()"
   ]
  },
  {
   "cell_type": "code",
   "execution_count": 4,
   "metadata": {
    "collapsed": true
   },
   "outputs": [],
   "source": [
    "tot_corr = 0\n",
    "tot_test_corr = 0"
   ]
  },
  {
   "cell_type": "code",
   "execution_count": 5,
   "metadata": {
    "collapsed": false
   },
   "outputs": [],
   "source": [
    "seed = 275\n",
    "nTimeUnits = 1000\n",
    "nTrainRuns = 300\n",
    "nTestRuns = 419-nTrainRuns\n",
    "nToSkip = 12000\n",
    "inputSize = 12\n",
    "num_bins = 10\n",
    "\n",
    "rvs = stats.uniform(-1,2).rvs # uniform distribution between [-1,1]"
   ]
  },
  {
   "cell_type": "code",
   "execution_count": 39,
   "metadata": {
    "collapsed": false
   },
   "outputs": [
    {
     "name": "stdout",
     "output_type": "stream",
     "text": [
      "Using matplotlib backend: Qt5Agg\n"
     ]
    }
   ],
   "source": [
    "cmap = get_cmap(\"Set1\")\n",
    "stim_colors = [cmap(i) for i in np.linspace(0,1,7)]\n",
    "rep_stim_colors = np.repeat(stim_colors,num_bins,0)\n",
    "\n",
    "bin_colors = [cmap(i) for i in np.linspace(0,1,num_bins)]\n",
    "\n",
    "labs = ['car', 'couch', 'face', 'flower', 'guitar', 'hand', 'kiwi']\n",
    "rep_labs = np.repeat(labs,num_bins)\n",
    "\n",
    "%matplotlib auto"
   ]
  },
  {
   "cell_type": "code",
   "execution_count": 24,
   "metadata": {
    "collapsed": false
   },
   "outputs": [],
   "source": [
    "# Tunable parameters\n",
    "res_size = 100\n",
    "scale_res = 0.75\n",
    "alpha = 2.0 # regularization rate\n",
    "scale_in = 2.5\n",
    "scale_b = 2.0\n",
    "scale_noise = 0.\n",
    "exp_decay_rate = 0.995\n",
    "scale_input_data = True\n",
    "\n",
    "rand.seed(seed) # set the seed\n",
    "np.random.seed(seed)\n",
    "\n",
    "#dfm=pd.read_csv('parameter_history.csv', header=0)\n",
    "last_row = dfm.shape[0]-1\n",
    "prev_tot_corr = dfm.loc[:,'tot_corr'][last_row]\n",
    "prev_tot_test_corr = dfm.loc[:,'tot_test_corr'][last_row]"
   ]
  },
  {
   "cell_type": "code",
   "execution_count": null,
   "metadata": {
    "collapsed": true
   },
   "outputs": [],
   "source": [
    "# Preparing input and teacher data\n",
    "#data_exp_decay_1018 = data_1018.copy()\n",
    "data_exp_decay_1018 = np.load('data_1018.npy')\n",
    "addExponentialDecay(exp_decay_rate,data_exp_decay_1018)"
   ]
  },
  {
   "cell_type": "code",
   "execution_count": 25,
   "metadata": {
    "collapsed": false
   },
   "outputs": [],
   "source": [
    "if scale_input_data:\n",
    "    for neuron in data_exp_decay_1018['raster_data']:\n",
    "        neuron /= np.max(neuron)\n",
    "input_data = np.concatenate((np.ones((1,419,1000)),data_exp_decay_1018['raster_data']),axis=0) # vertically concatenate ones as first input"
   ]
  },
  {
   "cell_type": "code",
   "execution_count": 10,
   "metadata": {
    "collapsed": false
   },
   "outputs": [],
   "source": [
    "# Create output signal \n",
    "teacher = createTimeSensitiveTeacherSignal(data_exp_decay_1018, num_bins = num_bins) # Because each of these 11 neurons saw the same stimuli, only need one"
   ]
  },
  {
   "cell_type": "code",
   "execution_count": 26,
   "metadata": {
    "collapsed": false
   },
   "outputs": [],
   "source": [
    "W = random(res_size,res_size,density = 0.1, data_rvs = rvs).A # uniformly distributed\n",
    "vals, vecs = np.absolute(eigs(W))\n",
    "l = max(vals) # eigenvalues\n",
    "W /= l # divide W by it's largest eigenvalue\n",
    "W *= scale_res # scale W\n",
    "\n",
    "W_in = random(res_size,inputSize,density=0.1, data_rvs = rvs).A\n",
    "W_in *= scale_in\n",
    "\n",
    "b = np.array(rvs(res_size)).reshape(res_size,1)\n",
    "b *= scale_b\n",
    "\n",
    "## State Harvesting\n",
    "X = np.zeros((res_size,nTrainRuns*nTimeUnits))\n",
    "M = np.zeros((res_size+inputSize,nTrainRuns*nTimeUnits-nToSkip))\n",
    "T = np.zeros((7*num_bins,nTrainRuns*nTimeUnits-nToSkip))\n",
    "\n",
    "for run in np.arange(nTrainRuns):\n",
    "    for i in np.arange(1, nTimeUnits):\n",
    "        index = run*nTimeUnits+i\n",
    "        W_dot_Xn = np.dot(W,X[:,index-1].reshape((res_size,1)))\n",
    "        Win_dot_Un = np.dot(W_in, input_data[:,run,i].reshape((inputSize,1)))\n",
    "        noise = np.random.normal(0,scale_noise,size=res_size).reshape((res_size,1))\n",
    "        X[:,index] = np.tanh(W_dot_Xn+Win_dot_Un+b+noise).reshape(res_size)\n",
    "        if index >=nToSkip:\n",
    "            M[:,index-nToSkip]=np.concatenate((input_data[:,run,i],X[:,index]),axis=0)\n",
    "            T[:,index-nToSkip]=teacher[:,run,i].reshape(7*num_bins)\n",
    "#Y_dot_Xt = reduce(lambda x,y:x+y, [np.dot(subset_teacher[:,i,:].reshape(70,1000),X[i*1000:i*1000+1000,:].T) for i in np.arange(419)])\n",
    "Y_dot_Xt = np.dot(T,M.T)\n",
    "X_dot_Xt_w_regularization = np.dot(M,M.T)+alpha*np.identity(res_size+inputSize)\n",
    "\n",
    "# Use Ridge Regression to calculate output Weights\n",
    "W_out = np.dot(Y_dot_Xt, linalg.inv(X_dot_Xt_w_regularization))\n",
    "Y = np.dot(W_out,M)"
   ]
  },
  {
   "cell_type": "code",
   "execution_count": 27,
   "metadata": {
    "collapsed": false
   },
   "outputs": [],
   "source": [
    "X_test = np.zeros((res_size,nTestRuns*nTimeUnits))\n",
    "M_test = np.zeros((res_size+inputSize,nTestRuns*nTimeUnits))\n",
    "T_test = np.zeros((7*num_bins,nTestRuns*nTimeUnits))\n",
    "\n",
    "for run in np.arange(nTestRuns):\n",
    "    for i in np.arange(1, nTimeUnits):\n",
    "        index = run*nTimeUnits+i\n",
    "        run_index = run + nTrainRuns\n",
    "        W_dot_Xn = np.dot(W,X_test[:,index-1].reshape((res_size,1)))\n",
    "        Win_dot_Un = np.dot(W_in, input_data[:,run_index,i].reshape((inputSize,1)))\n",
    "        noise = np.random.normal(0,scale_noise,size=res_size).reshape((res_size,1))\n",
    "        X_test[:,index] = np.tanh(W_dot_Xn+Win_dot_Un+b+noise).reshape(res_size)\n",
    "        M_test[:,index] = np.concatenate((input_data[:,run_index,i],X_test[:,index]),axis=0)\n",
    "        T_test[:,index] = teacher[:,run_index,i].reshape(7*num_bins)\n",
    "\n",
    "Y_test=np.dot(W_out,M_test)"
   ]
  },
  {
   "cell_type": "code",
   "execution_count": 51,
   "metadata": {
    "collapsed": false
   },
   "outputs": [
    {
     "data": {
      "image/png": "[encoded data removed]",
      "text/plain": [
       "<matplotlib.figure.Figure at 0x4701b2b0>"
      ]
     },
     "metadata": {},
     "output_type": "display_data"
    },
    {
     "data": {
      "image/png": "[encoded data removed]",
      "text/plain": [
       "<matplotlib.figure.Figure at 0x46e26dd8>"
      ]
     },
     "metadata": {},
     "output_type": "display_data"
    },
    {
     "name": "stdout",
     "output_type": "stream",
     "text": [
      "[ 0.38888889  0.38541667  0.39583333  0.36111111  0.45833333  0.5\n",
      "  0.52083333  0.52777778  0.52430556  0.51736111]\n",
      "[ 0.12605042  0.11764706  0.1092437   0.16806723  0.21848739  0.2605042\n",
      "  0.25210084  0.35294118  0.42016807  0.39495798]\n",
      "Using matplotlib backend: Qt5Agg\n"
     ]
    }
   ],
   "source": [
    "%matplotlib inline\n",
    "[tot_corr,bin_corr] = calculateTotalAccuracy(T,Y,nToSkip)\n",
    "[tot_test_corr,bin_test_corr] = calculateTotalAccuracy(T_test,Y_test,0)\n",
    "print(str(bin_corr)+'\\n'+str(bin_test_corr))\n",
    "%matplotlib auto"
   ]
  },
  {
   "cell_type": "code",
   "execution_count": 29,
   "metadata": {
    "collapsed": false
   },
   "outputs": [],
   "source": [
    "parameter_names = ['scale_input_data','num_bins','res_size','scale_res','alpha','scale_in','scale_b','scale_noise',\n",
    "                   'exp_decay_rate','tot_corr','bin_corr','tot_test_corr','bin_test_corr']\n",
    "parameter_vals = [scale_input_data,num_bins,res_size,scale_res,alpha,scale_in,scale_b,\n",
    "                  scale_noise,exp_decay_rate,tot_corr,bin_corr,tot_test_corr,bin_test_corr]\n",
    "dfm = dfm.append(dict(zip(parameter_names,parameter_vals)),ignore_index=True)"
   ]
  },
  {
   "cell_type": "code",
   "execution_count": 30,
   "metadata": {
    "collapsed": false
   },
   "outputs": [],
   "source": [
    "dfm.to_csv('parameter_history.csv')"
   ]
  },
  {
   "cell_type": "code",
   "execution_count": 31,
   "metadata": {
    "collapsed": false
   },
   "outputs": [
    {
     "data": {
      "text/html": [
       "<div>\n",
       "<table border=\"1\" class=\"dataframe\">\n",
       "  <thead>\n",
       "    <tr style=\"text-align: right;\">\n",
       "      <th></th>\n",
       "      <th>Unnamed: 0</th>\n",
       "      <th>scale_input_data</th>\n",
       "      <th>num_bins</th>\n",
       "      <th>res_size</th>\n",
       "      <th>scale_res</th>\n",
       "      <th>alpha</th>\n",
       "      <th>scale_in</th>\n",
       "      <th>scale_b</th>\n",
       "      <th>scale_noise</th>\n",
       "      <th>exp_decay_rate</th>\n",
       "      <th>tot_corr</th>\n",
       "      <th>bin_corr</th>\n",
       "      <th>tot_test_corr</th>\n",
       "      <th>bin_test_corr</th>\n",
       "    </tr>\n",
       "  </thead>\n",
       "  <tbody>\n",
       "    <tr>\n",
       "      <th>28</th>\n",
       "      <td>28.0</td>\n",
       "      <td>True</td>\n",
       "      <td>10</td>\n",
       "      <td>150</td>\n",
       "      <td>0.90</td>\n",
       "      <td>1.0</td>\n",
       "      <td>1.5</td>\n",
       "      <td>1.0</td>\n",
       "      <td>0.0</td>\n",
       "      <td>0.995</td>\n",
       "      <td>0.555556</td>\n",
       "      <td>[ 0.42013889  0.42361111  0.41666667  0.451388...</td>\n",
       "      <td>0.386555</td>\n",
       "      <td>[ 0.11764706  0.13445378  0.14285714  0.176470...</td>\n",
       "    </tr>\n",
       "    <tr>\n",
       "      <th>29</th>\n",
       "      <td>NaN</td>\n",
       "      <td>True</td>\n",
       "      <td>10</td>\n",
       "      <td>150</td>\n",
       "      <td>0.90</td>\n",
       "      <td>1.0</td>\n",
       "      <td>1.5</td>\n",
       "      <td>1.0</td>\n",
       "      <td>0.0</td>\n",
       "      <td>0.995</td>\n",
       "      <td>0.555556</td>\n",
       "      <td>[0.420138888889, 0.423611111111, 0.41666666666...</td>\n",
       "      <td>0.386555</td>\n",
       "      <td>[0.117647058824, 0.134453781513, 0.14285714285...</td>\n",
       "    </tr>\n",
       "    <tr>\n",
       "      <th>30</th>\n",
       "      <td>NaN</td>\n",
       "      <td>True</td>\n",
       "      <td>10</td>\n",
       "      <td>100</td>\n",
       "      <td>0.75</td>\n",
       "      <td>2.0</td>\n",
       "      <td>2.5</td>\n",
       "      <td>2.0</td>\n",
       "      <td>0.0</td>\n",
       "      <td>0.995</td>\n",
       "      <td>0.527778</td>\n",
       "      <td>[0.388888888889, 0.385416666667, 0.39583333333...</td>\n",
       "      <td>0.420168</td>\n",
       "      <td>[0.126050420168, 0.117647058824, 0.10924369747...</td>\n",
       "    </tr>\n",
       "  </tbody>\n",
       "</table>\n",
       "</div>"
      ],
      "text/plain": [
       "    Unnamed: 0 scale_input_data  num_bins  res_size  scale_res  alpha  \\\n",
       "28        28.0             True        10       150       0.90    1.0   \n",
       "29         NaN             True        10       150       0.90    1.0   \n",
       "30         NaN             True        10       100       0.75    2.0   \n",
       "\n",
       "    scale_in  scale_b  scale_noise  exp_decay_rate  tot_corr  \\\n",
       "28       1.5      1.0          0.0           0.995  0.555556   \n",
       "29       1.5      1.0          0.0           0.995  0.555556   \n",
       "30       2.5      2.0          0.0           0.995  0.527778   \n",
       "\n",
       "                                             bin_corr  tot_test_corr  \\\n",
       "28  [ 0.42013889  0.42361111  0.41666667  0.451388...       0.386555   \n",
       "29  [0.420138888889, 0.423611111111, 0.41666666666...       0.386555   \n",
       "30  [0.388888888889, 0.385416666667, 0.39583333333...       0.420168   \n",
       "\n",
       "                                        bin_test_corr  \n",
       "28  [ 0.11764706  0.13445378  0.14285714  0.176470...  \n",
       "29  [0.117647058824, 0.134453781513, 0.14285714285...  \n",
       "30  [0.126050420168, 0.117647058824, 0.10924369747...  "
      ]
     },
     "execution_count": 31,
     "metadata": {},
     "output_type": "execute_result"
    }
   ],
   "source": [
    "dfm.tail(3)"
   ]
  },
  {
   "cell_type": "code",
   "execution_count": 32,
   "metadata": {
    "collapsed": false
   },
   "outputs": [
    {
     "data": {
      "text/html": [
       "<div>\n",
       "<table border=\"1\" class=\"dataframe\">\n",
       "  <thead>\n",
       "    <tr style=\"text-align: right;\">\n",
       "      <th></th>\n",
       "      <th>Unnamed: 0</th>\n",
       "      <th>scale_input_data</th>\n",
       "      <th>num_bins</th>\n",
       "      <th>res_size</th>\n",
       "      <th>scale_res</th>\n",
       "      <th>alpha</th>\n",
       "      <th>scale_in</th>\n",
       "      <th>scale_b</th>\n",
       "      <th>scale_noise</th>\n",
       "      <th>exp_decay_rate</th>\n",
       "      <th>tot_corr</th>\n",
       "      <th>bin_corr</th>\n",
       "      <th>tot_test_corr</th>\n",
       "      <th>bin_test_corr</th>\n",
       "    </tr>\n",
       "  </thead>\n",
       "  <tbody>\n",
       "    <tr>\n",
       "      <th>23</th>\n",
       "      <td>23.0</td>\n",
       "      <td>True</td>\n",
       "      <td>10</td>\n",
       "      <td>100</td>\n",
       "      <td>0.75</td>\n",
       "      <td>2.0</td>\n",
       "      <td>2.5</td>\n",
       "      <td>2.0</td>\n",
       "      <td>0.0</td>\n",
       "      <td>0.995</td>\n",
       "      <td>0.534722</td>\n",
       "      <td>[ 0.33680556  0.36805556  0.35069444  0.361111...</td>\n",
       "      <td>0.462185</td>\n",
       "      <td>[ 0.13445378  0.14285714  0.11764706  0.176470...</td>\n",
       "    </tr>\n",
       "    <tr>\n",
       "      <th>21</th>\n",
       "      <td>21.0</td>\n",
       "      <td>True</td>\n",
       "      <td>10</td>\n",
       "      <td>100</td>\n",
       "      <td>0.75</td>\n",
       "      <td>2.0</td>\n",
       "      <td>2.5</td>\n",
       "      <td>1.5</td>\n",
       "      <td>0.0</td>\n",
       "      <td>0.995</td>\n",
       "      <td>0.534722</td>\n",
       "      <td>[ 0.38194444  0.35763889  0.35416667  0.364583...</td>\n",
       "      <td>0.445378</td>\n",
       "      <td>[ 0.11764706  0.1512605   0.13445378  0.151260...</td>\n",
       "    </tr>\n",
       "    <tr>\n",
       "      <th>26</th>\n",
       "      <td>26.0</td>\n",
       "      <td>True</td>\n",
       "      <td>10</td>\n",
       "      <td>150</td>\n",
       "      <td>0.90</td>\n",
       "      <td>1.0</td>\n",
       "      <td>2.5</td>\n",
       "      <td>2.0</td>\n",
       "      <td>0.0</td>\n",
       "      <td>0.995</td>\n",
       "      <td>0.520833</td>\n",
       "      <td>[ 0.41319444  0.40277778  0.37847222  0.420138...</td>\n",
       "      <td>0.428571</td>\n",
       "      <td>[ 0.12605042  0.13445378  0.14285714  0.142857...</td>\n",
       "    </tr>\n",
       "    <tr>\n",
       "      <th>19</th>\n",
       "      <td>19.0</td>\n",
       "      <td>True</td>\n",
       "      <td>10</td>\n",
       "      <td>100</td>\n",
       "      <td>0.75</td>\n",
       "      <td>2.0</td>\n",
       "      <td>2.5</td>\n",
       "      <td>1.0</td>\n",
       "      <td>0.0</td>\n",
       "      <td>0.995</td>\n",
       "      <td>0.555556</td>\n",
       "      <td>[ 0.38888889  0.35069444  0.36458333  0.381944...</td>\n",
       "      <td>0.420168</td>\n",
       "      <td>[ 0.1092437   0.15966387  0.13445378  0.159663...</td>\n",
       "    </tr>\n",
       "  </tbody>\n",
       "</table>\n",
       "</div>"
      ],
      "text/plain": [
       "    Unnamed: 0 scale_input_data  num_bins  res_size  scale_res  alpha  \\\n",
       "23        23.0             True        10       100       0.75    2.0   \n",
       "21        21.0             True        10       100       0.75    2.0   \n",
       "26        26.0             True        10       150       0.90    1.0   \n",
       "19        19.0             True        10       100       0.75    2.0   \n",
       "\n",
       "    scale_in  scale_b  scale_noise  exp_decay_rate  tot_corr  \\\n",
       "23       2.5      2.0          0.0           0.995  0.534722   \n",
       "21       2.5      1.5          0.0           0.995  0.534722   \n",
       "26       2.5      2.0          0.0           0.995  0.520833   \n",
       "19       2.5      1.0          0.0           0.995  0.555556   \n",
       "\n",
       "                                             bin_corr  tot_test_corr  \\\n",
       "23  [ 0.33680556  0.36805556  0.35069444  0.361111...       0.462185   \n",
       "21  [ 0.38194444  0.35763889  0.35416667  0.364583...       0.445378   \n",
       "26  [ 0.41319444  0.40277778  0.37847222  0.420138...       0.428571   \n",
       "19  [ 0.38888889  0.35069444  0.36458333  0.381944...       0.420168   \n",
       "\n",
       "                                        bin_test_corr  \n",
       "23  [ 0.13445378  0.14285714  0.11764706  0.176470...  \n",
       "21  [ 0.11764706  0.1512605   0.13445378  0.151260...  \n",
       "26  [ 0.12605042  0.13445378  0.14285714  0.142857...  \n",
       "19  [ 0.1092437   0.15966387  0.13445378  0.159663...  "
      ]
     },
     "execution_count": 32,
     "metadata": {},
     "output_type": "execute_result"
    }
   ],
   "source": [
    "dfm.sort_values(['tot_test_corr','tot_corr'],ascending=False).head(4)"
   ]
  },
  {
   "cell_type": "code",
   "execution_count": 52,
   "metadata": {
    "collapsed": false,
    "scrolled": true
   },
   "outputs": [],
   "source": [
    "inv_leg = Rectangle((0, 0), 0, 0, alpha=0.0)\n",
    "\n",
    "f, ((ax1,ax2,ax3), (ax4,ax5,ax6)) = plt.subplots(2,3)\n",
    "[ax1.plot(np.arange(1000,4000),X[i,1000:4000]) for i in np.arange(1,5)]\n",
    "ax1.set_title(\"Subset Reservoir Dynamics 1-4\")\n",
    "\n",
    "ax4.bar(np.arange(len(bin_corr)),bin_corr)\n",
    "ax4.set_title(\"Training Accuracy Per Bin\")\n",
    "ax4.set_ylim([0,1])\n",
    "\n",
    "[ax2.plot(np.arange(0,10000),T[i,0:10000],c=rep_stim_colors[i],label = rep_labs[i],ls=':') for i in np.arange(7*num_bins)]\n",
    "[ax2.plot(np.arange(0,10000),Y[i,0:10000],c=rep_stim_colors[i],label = rep_labs[i]) for i in np.arange(7*num_bins)]\n",
    "ax2.set_title(\"Teacher & Training Output - Cases 1-10\")\n",
    "handles, labels = ax2.get_legend_handles_labels()\n",
    "by_label = OrderedDict(zip(labels, handles))\n",
    "ax2.legend(by_label.values(), by_label.keys(), loc=3,\n",
    "           ncol=7, mode=\"expand\", borderaxespad=0., handlelength=0.5,handletextpad =0.0)\n",
    "\n",
    "[ax5.plot(np.arange(10000,20000),T[i,10000:20000],c=rep_stim_colors[i],label = rep_labs[i],ls=':') for i in np.arange(7*num_bins)]\n",
    "[ax5.plot(np.arange(10000,20000),Y[i,10000:20000],c=rep_stim_colors[i],label = rep_labs[i]) for i in np.arange(7*num_bins)]\n",
    "ax5.set_title(\"Teacher & Training Output Cases 11-20\")\n",
    "handles, labels = ax5.get_legend_handles_labels()\n",
    "by_label = OrderedDict(zip(labels, handles))\n",
    "ax5.legend(by_label.values(), by_label.keys(), loc=3,\n",
    "           ncol=7, mode=\"expand\", borderaxespad=0., handlelength=0.5,handletextpad =0.0)\n",
    "\n",
    "\n",
    "[ax3.plot(np.arange(8000,9050),T[i,8000:9050],c=bin_colors[i%num_bins],label = labs[i/num_bins]) for i in np.arange(6*num_bins,7*num_bins)]\n",
    "[ax3.plot(np.arange(8000,9050),Y[i,8000:9050],c=bin_colors[i%num_bins],label = labs[i/num_bins]) for i in np.arange(6*num_bins,7*num_bins)]\n",
    "ax3.set_title(\"8th Train Case Model Output\")\n",
    "handles, labels = ax3.get_legend_handles_labels()\n",
    "by_label = OrderedDict(zip(labels, handles))\n",
    "ax3.legend([inv_leg], by_label.keys(), handlelength=0.)\n",
    "\n",
    "[ax6.plot(np.arange(13000,14050),T[i,13000:14050],c=bin_colors[i%num_bins],label = labs[i/num_bins]) for i in np.arange(4*num_bins,5*num_bins)]\n",
    "[ax6.plot(np.arange(13000,14050),Y[i,13000:14050],c=bin_colors[i%num_bins],label = labs[i/num_bins]) for i in np.arange(4*num_bins,5*num_bins)]\n",
    "ax6.set_title(\"13th Train Case Model Output\")\n",
    "handles, labels = ax6.get_legend_handles_labels()\n",
    "by_label = OrderedDict(zip(labels, handles))\n",
    "ax6.legend([inv_leg], by_label.keys(), handlelength=0.)\n",
    "\n",
    "plt.suptitle('Overall Training Accuracy: '+str(np.round(tot_corr,3)) + \", Change: \"+str(np.round(tot_corr-prev_tot_corr,3))+ \n",
    "             \", Time Binned Accuracies: \"+str(np.round(bin_corr,3)))\n",
    "plt.subplots_adjust(left=None, bottom=None, right=None, top=None, wspace=None, hspace=0.4)\n",
    "mng = plt.get_current_fig_manager()\n",
    "mng.window.showMaximized()\n",
    "plt.show()"
   ]
  },
  {
   "cell_type": "code",
   "execution_count": 54,
   "metadata": {
    "collapsed": false
   },
   "outputs": [],
   "source": [
    "f, ((ax1,ax2,ax3), (ax4,ax5,ax6)) = plt.subplots(2,3)\n",
    "[ax1.plot(np.arange(1000,4000),X_test[i,1000:4000]) for i in np.arange(1,5)]\n",
    "ax1.set_title(\"Subset Reservoir Dynamics 1-4\")\n",
    "\n",
    "ax4.bar(np.arange(len(bin_test_corr)),bin_test_corr)\n",
    "ax4.set_title(\"Testing Accuracy Per Bin\")\n",
    "ax4.set_ylim([0,1])\n",
    "\n",
    "[ax2.plot(np.arange(0,10000),T_test[i,0:10000],c=rep_stim_colors[i],label = rep_labs[i],ls=':') for i in np.arange(7*num_bins)]\n",
    "[ax2.plot(np.arange(0,10000),Y_test[i,0:10000],c=rep_stim_colors[i],label = rep_labs[i]) for i in np.arange(7*num_bins)]\n",
    "ax2.set_title(\"Teacher & Testing Output - Cases 1-10\")\n",
    "handles, labels = ax2.get_legend_handles_labels()\n",
    "by_label = OrderedDict(zip(labels, handles))\n",
    "ax2.legend(by_label.values(), by_label.keys(), loc=3,\n",
    "           ncol=7, mode=\"expand\", borderaxespad=0., handlelength=0.5,handletextpad =0.0)\n",
    "\n",
    "[ax5.plot(np.arange(10000,20000),T_test[i,10000:20000],c=rep_stim_colors[i],label = rep_labs[i],ls=':') for i in np.arange(7*num_bins)]\n",
    "[ax5.plot(np.arange(10000,20000),Y_test[i,10000:20000],c=rep_stim_colors[i],label = rep_labs[i]) for i in np.arange(7*num_bins)]\n",
    "ax5.set_title(\"Teacher & Testing Output Cases 11-20\")\n",
    "handles, labels = ax5.get_legend_handles_labels()\n",
    "by_label = OrderedDict(zip(labels, handles))\n",
    "ax5.legend(by_label.values(), by_label.keys(), loc=3,\n",
    "           ncol=7, mode=\"expand\", borderaxespad=0., handlelength=0.5,handletextpad =0.0)\n",
    "\n",
    "\n",
    "[ax3.plot(np.arange(5000,6050),T_test[i,5000:6050],\n",
    "          c=bin_colors[i%num_bins],label = labs[i/num_bins]) for i in np.arange(3*num_bins,4*num_bins)]\n",
    "[ax3.plot(np.arange(5000,6050),Y_test[i,5000:6050],\n",
    "          c=bin_colors[i%num_bins],label = labs[i/num_bins]) for i in np.arange(3*num_bins,4*num_bins)]\n",
    "ax3.set_title(\"5th Test Case Model Output\")\n",
    "handles, labels = ax3.get_legend_handles_labels()\n",
    "by_label = OrderedDict(zip(labels, handles))\n",
    "ax3.legend([inv_leg], by_label.keys(), handlelength=0.)\n",
    "\n",
    "[ax6.plot(np.arange(13000,14050),T_test[i,13000:14050],\n",
    "          c=bin_colors[i%num_bins],label = labs[i/num_bins]) for i in np.arange(3*num_bins,4*num_bins)]\n",
    "[ax6.plot(np.arange(13000,14050),Y_test[i,13000:14050],\n",
    "          c=bin_colors[i%num_bins],label = labs[i/num_bins]) for i in np.arange(3*num_bins,4*num_bins)]\n",
    "ax6.set_title(\"13th Test Case Model Output\")\n",
    "handles, labels = ax6.get_legend_handles_labels()\n",
    "by_label = OrderedDict(zip(labels, handles))\n",
    "ax6.legend([inv_leg], by_label.keys(), handlelength=0.)\n",
    "\n",
    "plt.suptitle('Overall Testing Accuracy: '+str(np.round(tot_test_corr,3)) + \", Change: \"+str(np.round(tot_test_corr-prev_tot_test_corr,3))+ \n",
    "             \", Time Binned Accuracies: \"+str(np.round(bin_test_corr,3)))\n",
    "plt.subplots_adjust(left=None, bottom=None, right=None, top=None, wspace=None, hspace=0.4)\n",
    "mng = plt.get_current_fig_manager()\n",
    "mng.window.showMaximized()\n",
    "plt.show()"
   ]
  },
  {
   "cell_type": "code",
   "execution_count": null,
   "metadata": {
    "collapsed": true
   },
   "outputs": [],
   "source": []
  }
 ],
 "metadata": {
  "kernelspec": {
   "display_name": "Python 2",
   "language": "python",
   "name": "python2"
  },
  "language_info": {
   "codemirror_mode": {
    "name": "ipython",
    "version": 2
   },
   "file_extension": ".py",
   "mimetype": "text/x-python",
   "name": "python",
   "nbconvert_exporter": "python",
   "pygments_lexer": "ipython2",
   "version": "2.7.12"
  }
 },
 "nbformat": 4,
 "nbformat_minor": 0
}
