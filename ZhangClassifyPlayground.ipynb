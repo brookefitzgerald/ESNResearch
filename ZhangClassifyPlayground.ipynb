{
 "cells": [
  {
   "cell_type": "code",
   "execution_count": 2,
   "metadata": {
    "collapsed": false
   },
   "outputs": [],
   "source": [
    "import numpy as np\n",
    "import pandas as pd\n",
    "import random as rand\n",
    "from scipy import linalg\n",
    "from scipy.sparse.linalg import eigs, LinearOperator\n",
    "from scipy.sparse import random\n",
    "from scipy.optimize import brute\n",
    "import scipy.stats as stats\n",
    "from os import listdir,getcwd\n",
    "from functools import partial\n",
    "import matplotlib.pyplot as plt\n",
    "from matplotlib.cm import get_cmap\n",
    "from matplotlib.patches import Rectangle\n",
    "from collections import OrderedDict\n",
    "import pandas as pd\n",
    "from sklearn.model_selection import KFold\n",
    "from IPython.display import Audio\n",
    "from time import time\n",
    "%matplotlib inline"
   ]
  },
  {
   "cell_type": "code",
   "execution_count": null,
   "metadata": {
    "collapsed": false,
    "scrolled": true
   },
   "outputs": [],
   "source": [
    "zhang_dir = getcwd()+'\\\\ZhangData'\n",
    "data = np.zeros(132, dtype=[('neuron_id','a13'),\n",
    "                                ('raster_data',np.float32,(419,1000)),\n",
    "                                ('raster_info','a20',4),\n",
    "                                ('stimulus_id','a15',419),\n",
    "                                ('stimulus_position','a15',419),\n",
    "                                ('combined_id_position','a15',419)])\n",
    "\n",
    "for i,data_dir in enumerate(listdir(zhang_dir)):\n",
    "    raster_data, raster_info, raster_labels = [zhang_dir+'\\\\'+data_dir+'\\\\'+my_dir for my_dir in listdir(zhang_dir+'\\\\'+data_dir)]\n",
    "    neuron_id = data_dir[0:(len(data_dir)-12)]\n",
    "    data_arr = pd.read_csv(raster_data,header=None).values\n",
    "    labels_arr = pd.read_csv(raster_labels,header=0).values\n",
    "    if data_arr.shape == (420,1000):\n",
    "        data_arr = data_arr[0:(len(data_arr)-1)]\n",
    "        labels_arr = labels_arr[0:(len(labels_arr)-1)]\n",
    "    data[i] = (neuron_id, data_arr, pd.read_csv(raster_info).values, labels_arr[:,0],labels_arr[:,1],labels_arr[:,2])"
   ]
  },
  {
   "cell_type": "code",
   "execution_count": null,
   "metadata": {
    "collapsed": false
   },
   "outputs": [],
   "source": [
    "[x[0]  for x in data[['neuron_id']][0:3]]\n",
    "\n",
    "#Get fourth run from first 3 neurons\n",
    "[plt.plot(x[0][4]) for x in data[['raster_data']][0:3]]\n",
    "plt.show()\n",
    "[x[0] for x in data[['neuron_id']][0:3]]"
   ]
  },
  {
   "cell_type": "code",
   "execution_count": null,
   "metadata": {
    "collapsed": false
   },
   "outputs": [],
   "source": [
    "## for multiple neurons\n",
    "y=[x['raster_data'][x[0]=='hand'] for x in data[['stimulus_id','raster_data']][:][:]]\n",
    "plt.plot(y[0][0])\n",
    "plt.plot(y[0][1])\n",
    "plt.show()\n",
    "#for single neurons\n",
    "#[x[:,0] for x in data[['stimulus_id','raster_data']][0][0]]"
   ]
  },
  {
   "cell_type": "code",
   "execution_count": null,
   "metadata": {
    "collapsed": false
   },
   "outputs": [],
   "source": [
    "[plt.plot(x) for x in data['raster_data'][0][data['stimulus_id'][0]=='hand'][0:2]]\n",
    "plt.show()\n",
    "[plt.plot(x) for x in data['raster_data'][0][[0,9],:]]\n",
    "plt.show()"
   ]
  },
  {
   "cell_type": "code",
   "execution_count": null,
   "metadata": {
    "collapsed": false
   },
   "outputs": [],
   "source": [
    "def addExponentialDecayToNeuronRead(neuron_read, rate_of_exp_decrease):\n",
    "    activation = 0.0\n",
    "    for i,x in enumerate(neuron_read):\n",
    "        if x==1.0:\n",
    "            activation+=1.0\n",
    "        elif ((x==0.0) and (activation>0.0)):\n",
    "            activation *= rate_of_exp_decrease\n",
    "        if activation<0.:\n",
    "            activation=0.\n",
    "        neuron_read[i]=activation\n",
    "\n",
    "\n",
    "def addExponentialDecay(speed,d=data):\n",
    "    addExpDecay = partial(addExponentialDecayToNeuronRead, rate_of_exp_decrease = speed)\n",
    "    for neuron in d:\n",
    "        np.apply_along_axis(addExpDecay, axis = 1, arr = neuron['raster_data'])"
   ]
  },
  {
   "cell_type": "code",
   "execution_count": null,
   "metadata": {
    "collapsed": false
   },
   "outputs": [],
   "source": [
    "index_1018=data['raster_info'][:,3]=='1018'\n",
    "index_1018"
   ]
  },
  {
   "cell_type": "code",
   "execution_count": null,
   "metadata": {
    "collapsed": false
   },
   "outputs": [],
   "source": [
    "index_1018=data['raster_info'][:,3]=='1018'\n",
    "data_1018 = np.zeros(11, dtype=[('neuron_id','a13'),\n",
    "                                ('raster_data',np.float32,(419,1000)),\n",
    "                                ('raster_info','a20',4),\n",
    "                                ('stimulus_id','a15',419),\n",
    "                                ('stimulus_position','a15',419),\n",
    "                                ('combined_id_position','a15',419)])\n",
    "data_1018[np.arange(11)] = data[index_1018]"
   ]
  },
  {
   "cell_type": "code",
   "execution_count": null,
   "metadata": {
    "collapsed": true
   },
   "outputs": [],
   "source": [
    "np.save('data_1018',data_1018)"
   ]
  },
  {
   "cell_type": "code",
   "execution_count": null,
   "metadata": {
    "collapsed": false
   },
   "outputs": [],
   "source": [
    "def reshapeSignalsToOneTimeTrace(signal):\n",
    "    (nUnits, nRuns, nTime) = signal.shape\n",
    "    single_trace_signal = np.zeros((nUnits,nRuns*nTime))\n",
    "    for i in np.arange(nRuns):\n",
    "        single_trace_signal[:,(i*nTime):(i*nTime+nTime)] = signal[:,i,:].reshape((nUnits,nTime))\n",
    "    return(single_trace_signal)"
   ]
  },
  {
   "cell_type": "code",
   "execution_count": null,
   "metadata": {
    "collapsed": false,
    "scrolled": true
   },
   "outputs": [],
   "source": [
    "seen = dict(zip(np.unique(data['raster_info'][:,3]),np.zeros(21)))\n",
    "for runid in data['raster_info'][:,3]:\n",
    "    seen[runid] = seen[runid]+1\n",
    "    \n",
    "seen"
   ]
  },
  {
   "cell_type": "code",
   "execution_count": null,
   "metadata": {
    "collapsed": false
   },
   "outputs": [],
   "source": [
    "teach = createTeacherSignal(data_1018)[0]"
   ]
  },
  {
   "cell_type": "code",
   "execution_count": null,
   "metadata": {
    "collapsed": false
   },
   "outputs": [],
   "source": [
    "names=['car', 'couch', 'face', 'flower', 'guitar', 'hand', 'kiwi']\n",
    "stim_num = 8\n",
    "x = [plt.plot(x[stim_num,:], label = names[i]) for i,x in enumerate(teach)]\n",
    "print('Number of output nodes: '+str(len(x)))\n",
    "print('Stimulus shown: '+data_1018[0]['stimulus_id'][stim_num])\n",
    "plt.legend()\n",
    "plt.show()"
   ]
  },
  {
   "cell_type": "code",
   "execution_count": null,
   "metadata": {
    "collapsed": false
   },
   "outputs": [],
   "source": [
    "teach_test = reshapeSignalsToOneTimeTrace(teach)\n",
    "one_signal_data_test = reshapeSignalsToOneTimeTrace(test_data['raster_data'])"
   ]
  },
  {
   "cell_type": "code",
   "execution_count": null,
   "metadata": {
    "collapsed": false
   },
   "outputs": [],
   "source": [
    "teach_test.shape\n",
    "one_signal_data_test.shape"
   ]
  },
  {
   "cell_type": "code",
   "execution_count": null,
   "metadata": {
    "collapsed": false
   },
   "outputs": [],
   "source": [
    "x = [plt.plot(x, label = names[i]) for i,x in enumerate(teach_test[:,0:5000])]\n",
    "plt.legend()\n",
    "plt.show()\n",
    "\n",
    "neuron_ids = ['1','2','3','4','5','6','7','8','9','10','11']\n",
    "x = [plt.plot(x,label = neuron_ids[i]) for i,x in enumerate(one_signal_data_test[:,0:5000])]\n",
    "plt.legend()\n",
    "plt.show()"
   ]
  },
  {
   "cell_type": "code",
   "execution_count": null,
   "metadata": {
    "collapsed": true
   },
   "outputs": [],
   "source": [
    "def autolabel(rects):\n",
    "    \"\"\"\n",
    "    Attach a text label above each bar displaying its height\n",
    "    \"\"\"\n",
    "    for rect in rects:\n",
    "        height = rect.get_height()\n",
    "        ax.text(rect.get_x() + rect.get_width()/2., 1.05*height,\n",
    "                '%d' % int(height),\n",
    "                ha='center', va='bottom')"
   ]
  },
  {
   "cell_type": "code",
   "execution_count": null,
   "metadata": {
    "collapsed": false
   },
   "outputs": [],
   "source": [
    "%matplotlib inline"
   ]
  },
  {
   "cell_type": "code",
   "execution_count": 5,
   "metadata": {
    "collapsed": false
   },
   "outputs": [],
   "source": [
    "data_exp_decay_1018 = np.load('data_1018.npy')\n",
    "def getSpecificStimulus(sid, neuron_index = None, d=data_exp_decay_1018):\n",
    "    if neuron_index==None:\n",
    "        to_return = [x['raster_data'][x[0]==sid] for x in d[['stimulus_id','raster_data']][:][:]]\n",
    "    else:\n",
    "        to_return = [x['raster_data'][x[0]==sid] for x in d[['stimulus_id','raster_data']][neuron_index][:]]\n",
    "    return(to_return)\n",
    "\n",
    "def addExponentialDecayToNeuronRead(neuron_read, rate_of_exp_decrease):\n",
    "    activation = 0.0\n",
    "    for i,x in enumerate(neuron_read):\n",
    "        if x==1.0:\n",
    "            activation+=1.0\n",
    "        elif ((x==0.0) and (activation>0.0)):\n",
    "            activation *= rate_of_exp_decrease\n",
    "        if activation<0.:\n",
    "            activation=0.\n",
    "        neuron_read[i]=activation\n",
    "\n",
    "def addExponentialDecay(speed,d=data_exp_decay_1018):\n",
    "    addExpDecay = partial(addExponentialDecayToNeuronRead, rate_of_exp_decrease = speed)\n",
    "    for neuron in d:\n",
    "        np.apply_along_axis(addExpDecay, axis = 1, arr = neuron['raster_data'])\n",
    "    np.max(d['raster_data'])\n",
    "\n",
    "def createBriefTeacherSignal(d=data_exp_decay_1018):\n",
    "    ind_dict = dict(zip(['car', 'couch', 'face', 'flower', 'guitar', 'hand', 'kiwi'],np.arange(7)))\n",
    "    teacher_signal = np.zeros(len(d), dtype = (np.float32,(7,419,1000)))\n",
    "    increase = [1.0/(1.0+np.exp(-0.7*x)) for x in np.linspace(-10,10,100)]\n",
    "    decrease = [1.0/(1.0+np.exp(0.7*x)) for x in np.linspace(-10,10,100)]\n",
    "    for i, neuron in enumerate(d):\n",
    "        for j in np.arange(419):\n",
    "            stimulus_index = ind_dict[neuron['stimulus_id'][j]]\n",
    "            stimulus_shown = int(neuron['raster_info'][0])\n",
    "            teacher_signal[stimulus_index][i][stimulus_shown:stimulus_shown+100] = increase\n",
    "            teacher_signal[stimulus_index][i][stimulus_shown+100:stimulus_shown+200] = decrease\n",
    "\n",
    "    return (teacher_signal)\n",
    "\n",
    "def createExtendedTeacherSignal(d=data_exp_decay_1018):\n",
    "    ind_dict = dict(zip(['car', 'couch', 'face', 'flower', 'guitar', 'hand', 'kiwi'],np.arange(7)))\n",
    "    teacher_signal = np.zeros(len(d), dtype = (np.float32,(7,419,1000)))\n",
    "    increase = [1.0/(1.0+np.exp(-0.7*x)) for x in np.linspace(-10,10,100)]\n",
    "    for i, neuron in enumerate(d):\n",
    "        for j in np.arange(419):\n",
    "            stimulus_index = ind_dict[neuron['stimulus_id'][j]]\n",
    "            stimulus_shown = int(neuron['raster_info'][0])\n",
    "            teacher_signal[stimulus_index][i][stimulus_shown:(stimulus_shown+100)] = increase\n",
    "            teacher_signal[stimulus_index][i][(stimulus_shown+100):1000] = 1.0\n",
    "\n",
    "    return (teacher_signal)\n",
    "\n",
    "def createTimeSensitiveTeacherSignal(d=data_exp_decay_1018, num_bins = 10):\n",
    "    ind_dict = dict(zip(['car', 'couch', 'face', 'flower', 'guitar', 'hand', 'kiwi'],np.arange(7)))\n",
    "    teacher_signal = np.zeros((7*num_bins,419,1000))\n",
    "    neuron = d[0]\n",
    "    for j in np.arange(419):\n",
    "        stimulus_num = ind_dict[neuron['stimulus_id'][j]]\n",
    "        start_index = stimulus_num*num_bins\n",
    "        stimulus_shown = int(neuron['raster_info'][0])\n",
    "        bin_size = int((1000-stimulus_shown)/num_bins)\n",
    "        for i in np.arange(start_index,start_index+num_bins):\n",
    "            start = stimulus_shown+(i%num_bins)*bin_size\n",
    "            teacher_signal[i,j,start:start+bin_size] = 1.0\n",
    "    return (teacher_signal)    \n",
    "\n",
    "def reshapeSignalsToOneTimeTrace(signal):\n",
    "    (nUnits, nRuns, nTime) = signal.shape\n",
    "    single_trace_signal = np.zeros((nUnits,nRuns*nTime))\n",
    "    for i in np.arange(nRuns):\n",
    "        single_trace_signal[:,(i*nTime):(i*nTime+nTime)] = signal[:,i,:].reshape((nUnits,nTime))\n",
    "    return(single_trace_signal)\n",
    "\n",
    "def calculateTotalAccuracy(y_target,y,nToSkip = 100):\n",
    "    n_outputs = int(y_target.shape[0])\n",
    "    n_bins = n_outputs/7\n",
    "    n_time_steps = int(y_target.shape[1])\n",
    "    n_cases = n_time_steps/1000\n",
    "    time_additive_traces = np.zeros((7,500))\n",
    "    bin_class_tp= np.zeros((7, n_bins))\n",
    "    bin_class_fp= np.zeros((7, n_bins))\n",
    "    bin_class_fn= np.zeros((7, n_bins))\n",
    "    bin_class_tn= np.zeros((7, n_bins))\n",
    "    bin_class_actual = np.zeros((7,n_bins))\n",
    "    bin_class_sec_tp = np.zeros((7,n_bins))\n",
    "    bin_size = 500/n_bins\n",
    "    for j in np.arange((1000-nToSkip)%1000,n_time_steps,1000):\n",
    "        start = j+500\n",
    "        for i in np.arange(7):\n",
    "            time_additive_traces[i,0:bin_size] = y[i*n_bins,start:start+bin_size]\n",
    "            for k in np.arange(1,n_bins):\n",
    "                time_additive_traces[i,k*bin_size:(bin_size+k*bin_size)] = reduce(lambda a,b: a+b,\n",
    "                                                                                  y[i*n_bins+np.arange(0,k+1),start+k*bin_size:(start+bin_size+k*bin_size)])\n",
    "        summed_traces = [np.sum(time_additive_traces[:,i*bin_size:i*bin_size+bin_size],axis=1)/bin_size for i in np.arange(n_bins)]\n",
    "        [predicted_second,predicted_first] = np.argpartition(np.array(summed_traces).T,-2,0)[-2:]       \n",
    "        correct=np.argmax([1. in i for i in y_target[:,start:start+500]])/n_bins\n",
    "        for bin_i in np.arange(n_bins):\n",
    "            if correct==predicted_first[bin_i]:\n",
    "                bin_class_tp[correct,bin_i] +=1.\n",
    "                bin_class_tn[np.arange(7)!=correct,bin_i]+=1.\n",
    "                bin_class_sec_tp[correct,bin_i]+= 1.\n",
    "            elif correct == predicted_second[bin_i]:\n",
    "                bin_class_fp[correct,bin_i]+= 1.\n",
    "                bin_class_sec_tp[correct,bin_i]+= 1.\n",
    "                bin_class_fn[predicted_first[bin_i],bin_i]+=1.\n",
    "            else:\n",
    "                bin_class_fp[correct,bin_i]+= 1.\n",
    "                bin_class_fn[predicted_first[bin_i],bin_i]+=1.\n",
    "        bin_class_actual[correct,:]+=1.\n",
    "    return(bin_class_tp,bin_class_fp,bin_class_tn,bin_class_fn,bin_class_actual,bin_class_sec_tp)"
   ]
  },
  {
   "cell_type": "code",
   "execution_count": 33,
   "metadata": {
    "collapsed": false
   },
   "outputs": [],
   "source": [
    "sub_t = T_test[:,np.arange(10000)]\n",
    "sub_y = Y_test[:,np.arange(10000)]"
   ]
  },
  {
   "cell_type": "code",
   "execution_count": 68,
   "metadata": {
    "collapsed": false
   },
   "outputs": [
    {
     "data": {
      "text/plain": [
       "array([[0, 0, 1, 1, 2, 2],\n",
       "       [3, 3, 4, 4, 5, 5]])"
      ]
     },
     "execution_count": 68,
     "metadata": {},
     "output_type": "execute_result"
    }
   ],
   "source": [
    "np.repeat([[0,1,2],\n",
    "           [3,4,5]],2,1)"
   ]
  },
  {
   "cell_type": "code",
   "execution_count": 71,
   "metadata": {
    "collapsed": false
   },
   "outputs": [],
   "source": [
    "n_outputs = int(sub_t.shape[0])\n",
    "n_bins = n_outputs/7\n",
    "n_time_steps = int(sub_t.shape[1])\n",
    "n_cases = n_time_steps/1000\n",
    "time_additive_traces = np.zeros((7,500))\n",
    "\n",
    "total_traces = np.zeros((7,10000))\n",
    "total_summed_traces = np.zeros((7,10000))\n",
    "bin_size = 500/n_bins\n",
    "x=np.arange(500)\n",
    "for j in np.arange((1000-0)%1000,n_time_steps,1000):\n",
    "    start = j+500\n",
    "    for i in np.arange(7):\n",
    "        time_additive_traces[i,0:bin_size] = sub_y[i*n_bins,start:start+bin_size]\n",
    "        for k in np.arange(1,n_bins):\n",
    "            time_additive_traces[i,k*bin_size:(bin_size+k*bin_size)] = reduce(lambda a,b: a+b,\n",
    "                                                                                  sub_y[i*n_bins+np.arange(0,k+1),start+k*bin_size:(start+bin_size+k*bin_size)])\n",
    "    total_traces[:,x]=0.\n",
    "    total_traces[:,x+500] = time_additive_traces\n",
    "    summed_traces = np.array([np.sum(time_additive_traces[:,i*bin_size:i*bin_size+bin_size],axis=1)/bin_size for i in np.arange(n_bins)])\n",
    "    total_summed_traces[:,x]=0.\n",
    "    total_summed_traces[:,x+500]= np.repeat(summed_traces.T,50,1)\n",
    "    x+=1000\n",
    "\n",
    "# [predicted_second,predicted_first] = np.argpartition(np.array(summed_traces).T,-2,0)[-2:]       \n",
    "# correct=np.argmax([1. in i for i in sub_t[:,start:start+500]])/n_bins"
   ]
  },
  {
   "cell_type": "code",
   "execution_count": 72,
   "metadata": {
    "collapsed": false
   },
   "outputs": [
    {
     "data": {
      "text/plain": [
       "(7L, 10000L)"
      ]
     },
     "execution_count": 72,
     "metadata": {},
     "output_type": "execute_result"
    }
   ],
   "source": [
    "total_summed_traces.shape"
   ]
  },
  {
   "cell_type": "code",
   "execution_count": 84,
   "metadata": {
    "collapsed": false
   },
   "outputs": [],
   "source": [
    "f, ((ax1,ax2)) = plt.subplots(1,2)\n",
    "[ax2.plot(np.arange(0,7000),T_test[i,0:7000],c=rep_stim_colors[i],label = rep_labs[i],ls=':',linewidth=0.3) for i in np.arange(7*num_bins)]\n",
    "[ax2.plot(np.arange(0,7000),total_summed_traces[i,0:7000],c=stim_colors[i],label = labs[i]) for i in np.arange(7)]\n",
    "ax2.set_title(\"Target & Average Additive Traces for Each Bin - Cases 1-7\")\n",
    "ax2.set_xticks(np.arange(0,8000,1000))\n",
    "ax2.set_ylim(-0.1,1.)\n",
    "ax2.set_xlabel(\"Time (1000ms per stimuli exposure)\")\n",
    "ax2.set_ylabel(\"Output Activation\")\n",
    "handles, labels = ax2.get_legend_handles_labels()\n",
    "by_label = OrderedDict(zip(labels, handles))\n",
    "ax2.legend(by_label.values(), by_label.keys(), loc=3,\n",
    "           ncol=7, mode=\"expand\", borderaxespad=0., handlelength=0.5,handletextpad =0.0)\n",
    "\n",
    "\n",
    "[ax1.plot(np.arange(0,7000),T_test[i,0:7000],c=rep_stim_colors[i],label = rep_labs[i],ls=':',linewidth=0.3) for i in np.arange(7*num_bins)]\n",
    "[ax1.plot(np.arange(0,7000),total_traces[i,0:7000],c=stim_colors[i],label = labs[i]) for i in np.arange(7)]\n",
    "ax1.set_title(\"Target & Time Additive Traces of Testing Output - Cases 1-7\")\n",
    "ax1.set_xlabel(\"Time (1000ms per stimuli exposure)\")\n",
    "ax1.set_ylabel(\"Output Activation\")\n",
    "ax1.set_ylim(-0.1,1.)\n",
    "ax1.set_xticks(np.arange(0,8000,1000))\n",
    "handles, labels = ax1.get_legend_handles_labels()\n",
    "by_label = OrderedDict(zip(labels, handles))\n",
    "ax1.legend(by_label.values(), by_label.keys(), loc=3,\n",
    "           ncol=7, mode=\"expand\", borderaxespad=0., handlelength=0.5,handletextpad =0.0)\n",
    "plt.show()"
   ]
  },
  {
   "cell_type": "code",
   "execution_count": 85,
   "metadata": {
    "collapsed": false
   },
   "outputs": [],
   "source": [
    "f, (ax1) = plt.subplots(1)\n",
    "\n",
    "[ax1.plot(np.arange(0,10000),T_test[i,0:10000],c=rep_stim_colors[i],label = rep_labs[i],ls=':',linewidth=0.3) for i in np.arange(7*num_bins)]\n",
    "[ax1.plot(np.arange(0,10000),Y_test[i,0:10000],c=rep_stim_colors[i],label = rep_labs[i]) for i in np.arange(7*num_bins)]\n",
    "ax1.set_title(\"Target & Testing Output - Cases 1-10\")\n",
    "ax1.set_xlabel(\"Time (1000ms per stimuli exposure)\")\n",
    "ax1.set_ylabel(\"Output Activation\")\n",
    "ax1.set_xticks(np.arange(0,11000,1000))\n",
    "handles, labels = ax1.get_legend_handles_labels()\n",
    "by_label = OrderedDict(zip(labels, handles))\n",
    "ax1.legend(by_label.values(), by_label.keys(), loc=3,\n",
    "           ncol=7, mode=\"expand\", borderaxespad=0., handlelength=0.5,handletextpad =0.0)\n",
    "plt.show()"
   ]
  },
  {
   "cell_type": "code",
   "execution_count": 13,
   "metadata": {
    "collapsed": false
   },
   "outputs": [
    {
     "data": {
      "text/plain": [
       "(70L, 419L, 1000L)"
      ]
     },
     "execution_count": 13,
     "metadata": {},
     "output_type": "execute_result"
    }
   ],
   "source": [
    "teacher.shape"
   ]
  },
  {
   "cell_type": "code",
   "execution_count": 18,
   "metadata": {
    "collapsed": false
   },
   "outputs": [],
   "source": [
    "f, (ax1) = plt.subplots(1)\n",
    "\n",
    "[ax1.plot(np.arange(0,1000),teacher[i,1,:],c=rep_stim_colors[i],label = rep_labs[i]) for i in np.arange(7*num_bins)]\n",
    "ax1.set_title(\"Target Signal\")\n",
    "ax1.set_xlabel(\"Time (1000ms per stimuli exposure)\")\n",
    "ax1.set_ylabel(\"Output Activation\")\n",
    "ax1.set_xticks(np.arange(0,1100,100))\n",
    "handles, labels = ax1.get_legend_handles_labels()\n",
    "by_label = OrderedDict(zip(labels, handles))\n",
    "ax1.legend(by_label.values(), by_label.keys())\n",
    "plt.show()"
   ]
  },
  {
   "cell_type": "code",
   "execution_count": 102,
   "metadata": {
    "collapsed": false
   },
   "outputs": [
    {
     "name": "stdout",
     "output_type": "stream",
     "text": [
      "[ 7.  6.  9.  6.  9.  6.]\n"
     ]
    },
    {
     "data": {
      "text/plain": [
       "array([[  7.,   9.,   9.,   8.,   7.,   7.,  10.,  12.,  14.,  10.],\n",
       "       [  7.,   6.,   6.,   5.,  16.,  25.,  30.,  31.,  33.,  33.],\n",
       "       [  6.,   4.,   4.,   7.,   6.,   7.,   9.,  11.,   7.,  11.],\n",
       "       [  9.,  10.,   9.,  11.,   6.,  11.,  17.,  24.,  25.,  26.],\n",
       "       [  6.,   7.,  19.,  20.,  29.,  33.,  31.,  31.,  32.,  30.],\n",
       "       [  9.,  10.,  10.,   6.,  10.,  17.,  20.,  22.,  23.,  20.],\n",
       "       [  6.,  11.,   5.,   5.,  14.,  19.,  25.,  32.,  26.,  33.]])"
      ]
     },
     "execution_count": 102,
     "metadata": {},
     "output_type": "execute_result"
    }
   ],
   "source": [
    "print(tot_right[np.arange(7)!=0,0])\n",
    "tot_right"
   ]
  },
  {
   "cell_type": "code",
   "execution_count": 96,
   "metadata": {
    "collapsed": false
   },
   "outputs": [
    {
     "data": {
      "text/plain": [
       "array([4, 5])"
      ]
     },
     "execution_count": 96,
     "metadata": {},
     "output_type": "execute_result"
    }
   ],
   "source": [
    "np.array([1,4,5])[np.arange(len([1,4,5]))!=0]"
   ]
  },
  {
   "cell_type": "code",
   "execution_count": null,
   "metadata": {
    "collapsed": false,
    "scrolled": true
   },
   "outputs": [],
   "source": [
    "added_traces = np.zeros((7,500))\n",
    "for i in np.arange(7):\n",
    "    added_traces[i] = reduce(lambda a,b: a+b, Y[i*35/7:i*35/7+35/7,500:1000])\n",
    "[plt.plot(trace,c=cols[i]) for i,trace in enumerate(added_traces)]\n",
    "plt.show()\n",
    "[plt.plot(trace, c= rep_cols[i]) for i,trace in enumerate(Y[:,500:1000])]\n",
    "plt.show()"
   ]
  },
  {
   "cell_type": "code",
   "execution_count": 3,
   "metadata": {
    "collapsed": true
   },
   "outputs": [],
   "source": [
    "tot_corr = 0\n",
    "tot_test_corr = 0"
   ]
  },
  {
   "cell_type": "code",
   "execution_count": 19,
   "metadata": {
    "collapsed": false
   },
   "outputs": [],
   "source": [
    "seed = 275\n",
    "nTimeUnits = 1000\n",
    "nTrainRuns = 300\n",
    "nTestRuns = 419-nTrainRuns\n",
    "nToSkip = 10000\n",
    "inputSize = 12\n",
    "num_bins = 10\n",
    "kf = KFold(n_splits=3)\n",
    "\n",
    "rvs = stats.uniform(-1,2).rvs # uniform distribution between [-1,1]"
   ]
  },
  {
   "cell_type": "code",
   "execution_count": 20,
   "metadata": {
    "collapsed": false
   },
   "outputs": [
    {
     "name": "stdout",
     "output_type": "stream",
     "text": [
      "Using matplotlib backend: Qt5Agg\n"
     ]
    }
   ],
   "source": [
    "cmap = get_cmap(\"Set1\")\n",
    "stim_colors = [cmap(i) for i in np.linspace(0,1,7)]\n",
    "stim_colors[6] = (44./255.,160./255.,44./255.,1.)\n",
    "rep_stim_colors = np.repeat(stim_colors,num_bins,0)\n",
    "\n",
    "bin_colors = [cmap(i) for i in np.linspace(0,1,num_bins)]\n",
    "\n",
    "labs = ['car', 'couch', 'face', 'flower', 'guitar', 'hand', 'kiwi']\n",
    "rep_labs = np.repeat(labs,num_bins)\n",
    "\n",
    "%matplotlib auto"
   ]
  },
  {
   "cell_type": "code",
   "execution_count": 21,
   "metadata": {
    "collapsed": false
   },
   "outputs": [],
   "source": [
    "dfm=pd.read_csv('parameter_history.csv', header=0)"
   ]
  },
  {
   "cell_type": "code",
   "execution_count": 123,
   "metadata": {
    "collapsed": false
   },
   "outputs": [],
   "source": [
    "# Tunable parameters\n",
    "res_size = 150\n",
    "scale_res = 0.79\n",
    "alpha = 5.1 # regularization rate\n",
    "scale_in = 2.64\n",
    "scale_b = 2.0\n",
    "scale_noise = 0.\n",
    "exp_decay_rate = 0.995\n",
    "scale_input_data = True\n",
    "\n",
    "rand.seed(seed) # set the seed\n",
    "np.random.seed(seed)\n",
    "\n",
    "last_row = dfm.shape[0]-1\n",
    "max_tot_corr = max(dfm.loc[:,'avg_train_acc'])\n",
    "max_tot_test_corr = max(dfm.loc[:,'avg_test_acc'])"
   ]
  },
  {
   "cell_type": "code",
   "execution_count": 23,
   "metadata": {
    "collapsed": true
   },
   "outputs": [],
   "source": [
    "# Preparing input and teacher data\n",
    "#data_exp_decay_1018 = data_1018.copy()\n",
    "data_exp_decay_1018 = np.load('data_1018.npy')\n",
    "addExponentialDecay(exp_decay_rate,data_exp_decay_1018)"
   ]
  },
  {
   "cell_type": "code",
   "execution_count": 24,
   "metadata": {
    "collapsed": false
   },
   "outputs": [],
   "source": [
    "if scale_input_data:\n",
    "    for neuron in data_exp_decay_1018['raster_data']:\n",
    "        neuron /= np.max(neuron)\n",
    "input_data = np.concatenate((np.ones((1,419,1000)),data_exp_decay_1018['raster_data']),axis=0) # vertically concatenate ones as first input"
   ]
  },
  {
   "cell_type": "code",
   "execution_count": 25,
   "metadata": {
    "collapsed": false
   },
   "outputs": [],
   "source": [
    "# Create output signal \n",
    "teacher = createTimeSensitiveTeacherSignal(data_exp_decay_1018, num_bins) # Because each of these 11 neurons saw the same stimuli, only need one"
   ]
  },
  {
   "cell_type": "code",
   "execution_count": 26,
   "metadata": {
    "collapsed": false
   },
   "outputs": [],
   "source": [
    "def trainAndTestOnSubsetOfCases(train_case_indices, test_case_indices):\n",
    "    nTrainRuns = len(train_case_indices)\n",
    "    nTestRuns = len(test_case_indices)\n",
    "    \n",
    "    W = random(res_size,res_size,density = 0.05, data_rvs = rvs).A # uniformly distributed\n",
    "    vals, vecs = np.absolute(eigs(W))\n",
    "    l = max(vals) # eigenvalues\n",
    "    W /= l # divide W by it's largest eigenvalue\n",
    "    W *= scale_res # scale W\n",
    "\n",
    "    W_in = random(res_size,inputSize,density=0.5, data_rvs = rvs).A\n",
    "    W_in *= scale_in\n",
    "\n",
    "    b = np.array(rvs(res_size)).reshape(res_size,1)\n",
    "    b *= scale_b\n",
    "\n",
    "    ## State Harvesting\n",
    "    X = np.zeros((res_size,nTrainRuns*nTimeUnits))\n",
    "    M = np.zeros((res_size+inputSize,nTrainRuns*nTimeUnits-nToSkip))\n",
    "    T = np.zeros((7*num_bins,nTrainRuns*nTimeUnits-nToSkip))\n",
    "\n",
    "    for j, run in enumerate(train_case_indices):\n",
    "        for i in np.arange(1, nTimeUnits):\n",
    "            index = j*nTimeUnits+i\n",
    "            W_dot_Xn = np.dot(W,X[:,index-1].reshape((res_size,1)))\n",
    "            Win_dot_Un = np.dot(W_in, input_data[:,run,i].reshape((inputSize,1)))\n",
    "            noise = np.random.normal(0,scale_noise,size=res_size).reshape((res_size,1))\n",
    "            X[:,index] = np.tanh(W_dot_Xn+Win_dot_Un+b+noise).reshape(res_size)\n",
    "            if index >=nToSkip:\n",
    "                M[:,index-nToSkip]=np.concatenate((input_data[:,run,i],X[:,index]),axis=0)\n",
    "                T[:,index-nToSkip]=teacher[:,run,i].reshape(7*num_bins)\n",
    "    #Y_dot_Xt = reduce(lambda x,y:x+y, [np.dot(subset_teacher[:,i,:].reshape(70,1000),X[i*1000:i*1000+1000,:].T) for i in np.arange(419)])\n",
    "    Y_dot_Xt = np.dot(T,M.T)\n",
    "    X_dot_Xt_w_regularization = np.dot(M,M.T)+alpha*np.identity(res_size+inputSize)\n",
    "\n",
    "    # Use Ridge Regression to calculate output Weights\n",
    "    W_out = np.dot(Y_dot_Xt, linalg.inv(X_dot_Xt_w_regularization))\n",
    "    Y = np.dot(W_out,M)\n",
    "    \n",
    "    ## Testing\n",
    "    \n",
    "    X_test = np.zeros((res_size,nTestRuns*nTimeUnits))\n",
    "    M_test = np.zeros((res_size+inputSize,nTestRuns*nTimeUnits))\n",
    "    T_test = np.zeros((7*num_bins,nTestRuns*nTimeUnits))\n",
    "\n",
    "    for j, run in enumerate(test_case_indices):\n",
    "        for i in np.arange(1, nTimeUnits):\n",
    "            index = j*nTimeUnits+i\n",
    "            W_dot_Xn = np.dot(W,X_test[:,index-1].reshape((res_size,1)))\n",
    "            Win_dot_Un = np.dot(W_in, input_data[:,run,i].reshape((inputSize,1)))\n",
    "            noise = np.random.normal(0,scale_noise,size=res_size).reshape((res_size,1))\n",
    "            X_test[:,index] = np.tanh(W_dot_Xn+Win_dot_Un+b+noise).reshape(res_size)\n",
    "            M_test[:,index] = np.concatenate((input_data[:,run,i],X_test[:,index]),axis=0)\n",
    "            T_test[:,index] = teacher[:,run,i].reshape(7*num_bins)\n",
    "\n",
    "    Y_test=np.dot(W_out,M_test)\n",
    "    \n",
    "    [bin_class_train_tp,bin_class_fp,bin_class_tn,bin_class_fn,bin_class_train_actual,bin_class_sec_tp] = calculateTotalAccuracy(T,Y,nToSkip)\n",
    "    [bin_class_tp,bin_class_fp,bin_class_tn,bin_class_fn,bin_class_actual,bin_class_sec_tp] = calculateTotalAccuracy(T_test,Y_test,0)\n",
    "    \n",
    "    train_tpr_bin = np.sum(bin_class_train_tp,0)/np.sum(bin_class_train_actual,0)\n",
    "    train_tpr = max(train_tpr_bin)\n",
    "    \n",
    "    return([train_tpr_bin,train_tpr,bin_class_tp,bin_class_fp,bin_class_tn,bin_class_fn,bin_class_actual,bin_class_sec_tp,T_test,Y_test])"
   ]
  },
  {
   "cell_type": "code",
   "execution_count": 208,
   "metadata": {
    "collapsed": true
   },
   "outputs": [],
   "source": [
    "%matplotlib inline"
   ]
  },
  {
   "cell_type": "code",
   "execution_count": 172,
   "metadata": {
    "collapsed": false
   },
   "outputs": [
    {
     "name": "stdout",
     "output_type": "stream",
     "text": [
      "(14L, 10L)\n"
     ]
    }
   ],
   "source": [
    "print(np.concatenate([tot_tp/tot_counts,tot_sec_tp/tot_counts]).shape)"
   ]
  },
  {
   "cell_type": "code",
   "execution_count": 74,
   "metadata": {
    "collapsed": false
   },
   "outputs": [
    {
     "data": {
      "text/plain": [
       "array([[ 0.89411765,  0.10196078,  0.10980392,  1.        ],\n",
       "       [ 0.21568627,  0.49411765,  0.72156863,  1.        ],\n",
       "       [ 0.59607843,  0.30588235,  0.63921569,  1.        ],\n",
       "       [ 1.        ,  0.49803922,  0.        ,  1.        ],\n",
       "       [ 0.65098039,  0.3372549 ,  0.15686275,  1.        ],\n",
       "       [ 0.96862745,  0.50588235,  0.74901961,  1.        ],\n",
       "       [ 0.17254902,  0.62745098,  0.17254902,  1.        ],\n",
       "       [ 0.89411765,  0.10196078,  0.10980392,  1.        ],\n",
       "       [ 0.21568627,  0.49411765,  0.72156863,  1.        ],\n",
       "       [ 0.59607843,  0.30588235,  0.63921569,  1.        ],\n",
       "       [ 1.        ,  0.49803922,  0.        ,  1.        ],\n",
       "       [ 0.65098039,  0.3372549 ,  0.15686275,  1.        ],\n",
       "       [ 0.96862745,  0.50588235,  0.74901961,  1.        ],\n",
       "       [ 0.17254902,  0.62745098,  0.17254902,  1.        ]])"
      ]
     },
     "execution_count": 74,
     "metadata": {},
     "output_type": "execute_result"
    }
   ],
   "source": [
    "\n",
    "markers = np.repeat(['o','^'],7)\n",
    "tile_labs = np.tile(labs,2)\n",
    "markers\n",
    "np.concatenate([stim_colors,stim_colors])"
   ]
  },
  {
   "cell_type": "code",
   "execution_count": 322,
   "metadata": {
    "collapsed": false
   },
   "outputs": [
    {
     "name": "stdout",
     "output_type": "stream",
     "text": [
      "Using matplotlib backend: Qt5Agg\n"
     ]
    }
   ],
   "source": [
    "%matplotlib auto"
   ]
  },
  {
   "cell_type": "code",
   "execution_count": 346,
   "metadata": {
    "collapsed": false
   },
   "outputs": [
    {
     "name": "stderr",
     "output_type": "stream",
     "text": [
      "C:\\Users\\Brooke\\Anaconda2\\lib\\site-packages\\ipykernel\\__main__.py:1: RuntimeWarning: invalid value encountered in divide\n",
      "  if __name__ == '__main__':\n",
      "C:\\Users\\Brooke\\Anaconda2\\lib\\site-packages\\numpy\\core\\fromnumeric.py:57: RuntimeWarning: invalid value encountered in rint\n",
      "  return getattr(obj, method)(*args, **kwds)\n"
     ]
    },
    {
     "name": "stdout",
     "output_type": "stream",
     "text": [
      "[ nan  nan  nan  nan  nan  nan  nan  nan  nan  nan]\n",
      "[ nan  nan  nan  nan  nan  nan  nan  nan  nan  nan]\n",
      "[ nan  nan  nan  nan  nan  nan  nan  nan  nan  nan]\n"
     ]
    },
    {
     "name": "stderr",
     "output_type": "stream",
     "text": [
      "C:\\Users\\Brooke\\Anaconda2\\lib\\site-packages\\ipykernel\\__main__.py:2: RuntimeWarning: invalid value encountered in divide\n",
      "  from ipykernel import kernelapp as app\n",
      "C:\\Users\\Brooke\\Anaconda2\\lib\\site-packages\\ipykernel\\__main__.py:3: RuntimeWarning: invalid value encountered in divide\n",
      "  app.launch_new_instance()\n"
     ]
    }
   ],
   "source": [
    "print(np.round(np.max(tot_sec_tp/tot_counts,0),2))\n",
    "print(np.round(np.mean(tot_sec_tp/tot_counts,0),2))\n",
    "print(np.round(np.sum(tot_tp,0)/np.sum(tot_counts,0),3))\n"
   ]
  },
  {
   "cell_type": "code",
   "execution_count": 49,
   "metadata": {
    "collapsed": true
   },
   "outputs": [],
   "source": [
    "%matplotlib inline"
   ]
  },
  {
   "cell_type": "code",
   "execution_count": 187,
   "metadata": {
    "collapsed": false
   },
   "outputs": [],
   "source": [
    "f, ((ax1,ax2)) = plt.subplots(1,2)\n",
    "\n",
    "ax1.bar(np.arange(0,10),np.mean(tot_tp/tot_counts,0),color=stim_colors[1])\n",
    "ax1.set_xticks(np.arange(10))\n",
    "ax1.set_xticklabels(bin_labs)\n",
    "#ax1.set_ylim(0.,0.46)\n",
    "vals = ax1.get_yticks()\n",
    "ax1.set_yticklabels(['{:3.2f}%'.format(x*100) for x in vals])\n",
    "ax1.set_ylabel(\"Percent of runs correctly classified (true positive rate)\")\n",
    "ax1.set_xlabel(\"Time after stimulus was shown\")\n",
    "ax1.set_title(\"Average classification accuracy per time bin\")\n",
    "\n",
    "inds = np.argsort(np.mean(tot_tp/tot_counts,1))[::-1]\n",
    "ax2.bar(np.arange(7),np.mean(tot_tp/tot_counts,1)[inds],color=np.array(stim_colors)[inds])\n",
    "ax2.set_xticks(np.arange(7))\n",
    "ax2.set_xticklabels(np.array(labs)[inds])\n",
    "#ax2.set_ylim(0.,0.46)\n",
    "vals = ax2.get_yticks()\n",
    "ax2.set_yticklabels(['{:3.2f}%'.format(x*100) for x in vals])\n",
    "ax2.set_ylabel(\"Percent of runs correctly classified (true positive rate)\")\n",
    "ax2.set_xlabel(\"Stimulus\")\n",
    "ax2.set_title(\"Average classification accuracy per stimulus\")\n",
    "\n",
    "plt.show()"
   ]
  },
  {
   "cell_type": "code",
   "execution_count": 193,
   "metadata": {
    "collapsed": false
   },
   "outputs": [
    {
     "data": {
      "text/plain": [
       "(0.89411764705882357, 0.10196078431372549, 0.10980392156862745, 1.0, 1.1)"
      ]
     },
     "execution_count": 193,
     "metadata": {},
     "output_type": "execute_result"
    }
   ],
   "source": []
  },
  {
   "cell_type": "code",
   "execution_count": 239,
   "metadata": {
    "collapsed": true
   },
   "outputs": [],
   "source": [
    "f, ((ax1,ax2)) = plt.subplots(1,2)\n",
    "width = 0.35\n",
    "\n",
    "inds = np.argsort(np.mean(tot_sec_tp/tot_counts,1))[::-1]\n",
    "ax1.bar(np.arange(7),np.mean(tot_tp/tot_counts,1)[inds]-(1./7.),width,color=np.array(stim_colors)[inds],edgecolor='white')\n",
    "ax1.bar(np.arange(7)+width,np.mean(tot_sec_tp/tot_counts,1)[inds]-(2./7.),width,color=np.array(stim_colors)[inds], edgecolor='white')\n",
    "ax1.set_xticks(np.arange(7)+width/2)\n",
    "ax1.set_xticklabels(np.array(labs)[inds])\n",
    "ax1.set_ylim(-0.01,0.57)\n",
    "vals = ax1.get_yticks()\n",
    "ax1.set_yticklabels(['{:3.2f}%'.format(x*100) for x in vals])\n",
    "ax1.set_ylabel(\"Percent of runs correctly classified\")\n",
    "ax1.set_title(\"Average accuracy over all time bins\")\n",
    "ax1.set_xlabel(\"Stimulus\")\n",
    "\n",
    "inds = np.argsort(np.max(tot_sec_tp/tot_counts,1))[::-1]\n",
    "ax2.bar(np.arange(7),np.max(tot_tp/tot_counts,1)[inds]-(1./7.),width,color=np.array(stim_colors)[inds], edgecolor='white')\n",
    "ax2.bar(np.arange(7)+width,np.max(tot_sec_tp/tot_counts,1)[inds]-(2./7.),width,color=np.array(stim_colors)[inds], edgecolor='white')\n",
    "ax2.set_xticks(np.arange(7)+width/2)\n",
    "ax2.set_xticklabels(np.array(labs)[inds])\n",
    "ax2.set_ylim(-0.01,0.57)\n",
    "vals = ax2.get_yticks()\n",
    "ax2.set_yticklabels(['{:3.2f}%'.format(x*100) for x in vals])\n",
    "ax2.set_ylabel(\"Percent of runs correctly classified\")\n",
    "ax2.set_xlabel(\"Stimulus\")\n",
    "ax2.set_title(\"Maximum accuracy for any time bin\")\n",
    "\n",
    "plt.suptitle(\"Classification Accuracies Above Chance Per Stimulus\")\n",
    "plt.show()"
   ]
  },
  {
   "cell_type": "code",
   "execution_count": 254,
   "metadata": {
    "collapsed": false
   },
   "outputs": [
    {
     "data": {
      "text/plain": [
       "0.62348566220746682"
      ]
     },
     "execution_count": 254,
     "metadata": {},
     "output_type": "execute_result"
    }
   ],
   "source": [
    "max(np.mean(tot_sec_tp/tot_counts,0))"
   ]
  },
  {
   "cell_type": "code",
   "execution_count": 251,
   "metadata": {
    "collapsed": false
   },
   "outputs": [
    {
     "name": "stdout",
     "output_type": "stream",
     "text": [
      "[[-0.052 -0.052 -0.052 -0.052 -0.006 -0.052  0.039  0.13   0.175  0.084]\n",
      " [-0.038 -0.09  -0.038  0.12   0.226  0.278  0.489  0.331  0.331  0.489]\n",
      " [-0.032  0.024 -0.087  0.024 -0.032  0.024 -0.032 -0.087  0.024  0.024]\n",
      " [ 0.     0.    -0.048 -0.095  0.048  0.143  0.143  0.238  0.286  0.333]\n",
      " [-0.097 -0.143  0.084  0.084  0.266  0.403  0.312  0.357  0.448  0.494]\n",
      " [ 0.007  0.057 -0.043 -0.093  0.057  0.207  0.307  0.257  0.257  0.257]\n",
      " [ 0.024  0.024 -0.032  0.024  0.19   0.079  0.19   0.302  0.19   0.468]]\n",
      "0.493506493506\n",
      "[[-0.149 -0.013  0.032  0.032  0.123  0.032  0.123  0.26   0.169  0.032]\n",
      " [ 0.083  0.083  0.083  0.241  0.346  0.451  0.398  0.451  0.556  0.451]\n",
      " [-0.063  0.048 -0.063 -0.063 -0.119  0.103 -0.063 -0.063  0.048  0.048]\n",
      " [ 0.048 -0.048  0.048  0.    -0.048  0.048  0.095  0.238  0.238  0.381]\n",
      " [-0.104 -0.058  0.032  0.169  0.26   0.351  0.396  0.442  0.442  0.442]\n",
      " [-0.036  0.064  0.014  0.064  0.064  0.264  0.564  0.514  0.364  0.364]\n",
      " [ 0.048  0.103  0.103 -0.063  0.214  0.325  0.381  0.437  0.548  0.492]]\n",
      "0.564285714286\n"
     ]
    }
   ],
   "source": [
    "print(np.round(tot_tp/tot_counts-1./7.,3))\n",
    "print(np.max(tot_tp/tot_counts-1./7.))\n",
    "print(np.round(tot_sec_tp/tot_counts-2./7.,3))\n",
    "\n",
    "print(np.max(tot_sec_tp/tot_counts-2./7.))"
   ]
  },
  {
   "cell_type": "code",
   "execution_count": 213,
   "metadata": {
    "collapsed": false
   },
   "outputs": [],
   "source": [
    "f, ((ax1,ax2)) = plt.subplots(1,2)\n",
    "width = 0.35\n",
    "\n",
    "ax1.bar(np.arange(0,10)+width,np.max(tot_tp/tot_counts,0),width,color=stim_colors[1], edgecolor='white')\n",
    "ax1.bar(np.arange(0,10),np.max(tot_sec_tp/tot_counts,0),width,color=stim_colors[1], edgecolor='white')\n",
    "ax1.set_xticks(np.arange(10)+width/2)\n",
    "ax1.set_xticklabels(bin_labs)\n",
    "#ax1.set_ylim(0.,0.66)\n",
    "vals = ax1.get_yticks()\n",
    "ax1.set_yticklabels(['{:3.2f}%'.format(x*100) for x in vals])\n",
    "ax1.set_ylabel(\"Percent of runs correctly classified (true positive rate)\")\n",
    "ax1.set_xlabel(\"Time after stimulus was shown\")\n",
    "ax1.set_title(\"Maximum classification accuracy of any stimulus per time bin\")\n",
    "\n",
    "inds = np.argsort(np.max(tot_tp/tot_counts,1))[::-1]\n",
    "ax2.bar(np.arange(7)+width,np.max(tot_tp/tot_counts,1)[inds],width,color=np.array(stim_colors)[inds], edgecolor='white')\n",
    "ax2.bar(np.arange(7),np.max(tot_sec_tp/tot_counts,1)[inds],width,color=np.array(stim_colors)[inds], edgecolor='white')\n",
    "ax2.set_xticks(np.arange(7)+width/2)\n",
    "ax2.set_xticklabels(np.array(labs)[inds])\n",
    "#ax2.set_ylim(0.,0.66)\n",
    "vals = ax2.get_yticks()\n",
    "ax2.set_yticklabels(['{:3.2f}%'.format(x*100) for x in vals])\n",
    "ax2.set_ylabel(\"Percent of runs correctly classified (true positive rate)\")\n",
    "ax2.set_xlabel(\"Stimulus\")\n",
    "ax2.set_title(\"Maximum classification accuracy of any time bin per stimulus\")\n",
    "\n",
    "plt.show()"
   ]
  },
  {
   "cell_type": "code",
   "execution_count": 85,
   "metadata": {
    "collapsed": false
   },
   "outputs": [
    {
     "data": {
      "image/png": "[encoded data removed]",
      "text/plain": [
       "<matplotlib.figure.Figure at 0xe342048>"
      ]
     },
     "metadata": {},
     "output_type": "display_data"
    }
   ],
   "source": [
    "[plt.plot(x, '-o',label =labs[i], c=stim_colors[i]) for i,x in enumerate(tot_tp/tot_counts)]\n",
    "plt.hlines(1./7.,0,9,label = \"Chance\",linewidth=3.0)\n",
    "plt.legend()\n",
    "plt.gca().yaxis.set_major_formatter(formatter)\n",
    "plt.ylim([0,1])\n",
    "plt.xticks(np.arange(10),bin_labs)\n",
    "plt.ylabel(\"Percent of runs correctly classified (true positive rate)\")\n",
    "plt.xlabel(\"Time after stimulus was shown\")\n",
    "plt.title(\"Percent Accuracy of First Prediction Per Stimulus\")\n",
    "plt.show()"
   ]
  },
  {
   "cell_type": "code",
   "execution_count": 185,
   "metadata": {
    "collapsed": false
   },
   "outputs": [],
   "source": [
    "f, ((ax1,ax2)) = plt.subplots(1,2)\n",
    "\n",
    "[ax1.plot(x, '-o',label =labs[i], c=stim_colors[i]) for i,x in enumerate(tot_tp/tot_counts)]\n",
    "ax1.hlines(1./7.,0,9,label = \"Chance\",linewidth=3.0)\n",
    "ax1.legend()\n",
    "ax1.set_ylim(0.,1.)\n",
    "vals = ax1.get_yticks()\n",
    "ax1.set_yticklabels(['{:3.2f}%'.format(x*100) for x in vals])\n",
    "ax1.set_xticks(np.arange(10))\n",
    "ax1.set_xticklabels(bin_labs)\n",
    "ax1.set_ylabel(\"Percent of runs correctly classified (true positive rate)\")\n",
    "ax1.set_xlabel(\"Time after stimulus was shown\")\n",
    "ax1.set_title(\"Percent Accuracy of First Prediction Per Stimulus\")\n",
    "\n",
    "[ax2.plot(x, '-o', label=labs[i],c=stim_colors[i]) for i,x in enumerate(tot_sec_tp/tot_counts)]\n",
    "ax2.hlines(2./7.,0,9,label = \"Chance\",linewidth=3.0)\n",
    "ax2.legend()\n",
    "ax2.set_ylim(0.,1.)\n",
    "vals = ax2.get_yticks()\n",
    "ax2.set_yticklabels(['{:3.2f}%'.format(x*100) for x in vals])\n",
    "ax2.set_xticks(np.arange(10))\n",
    "ax2.set_xticklabels(bin_labs)\n",
    "ax2.set_ylabel(\"Percent of runs correctly classified (true positive rate)\")\n",
    "ax2.set_xlabel(\"Time after stimulus was shown\")\n",
    "ax2.set_title(\"Percent Accuracy of First or Second Prediction Per Stimulus\")\n",
    "plt.subplots_adjust(left=None, bottom=None, right=None, top=None, wspace=0.3, hspace=None)\n",
    "plt.show()\n",
    "\n"
   ]
  },
  {
   "cell_type": "code",
   "execution_count": 75,
   "metadata": {
    "collapsed": false
   },
   "outputs": [
    {
     "data": {
      "image/png": "[encoded data removed]",
      "text/plain": [
       "<matplotlib.figure.Figure at 0x11388978>"
      ]
     },
     "metadata": {},
     "output_type": "display_data"
    },
    {
     "data": {
      "image/png": "[encoded data removed]",
      "text/plain": [
       "<matplotlib.figure.Figure at 0x10ed0da0>"
      ]
     },
     "metadata": {},
     "output_type": "display_data"
    }
   ],
   "source": [
    "[plt.plot(x, marker=markers[i], label=tile_labs[i],c=np.concatenate([stim_colors,stim_colors])[i]) for i,x in enumerate(np.concatenate([tot_tp/tot_counts,tot_sec_tp/tot_counts]))]\n",
    "plt.ylim([0,1])\n",
    "plt.xticks(np.arange(10),np.arange(1,11))\n",
    "plt.show()\n",
    "\n",
    "\n",
    "plt.bar(np.arange(1,len(tot_sec_tp[0])+1),np.sum(tot_sec_tp+tot_tp,0)/419)\n",
    "plt.show()"
   ]
  },
  {
   "cell_type": "code",
   "execution_count": 46,
   "metadata": {
    "collapsed": true
   },
   "outputs": [],
   "source": [
    "tot_accuracies = np.zeros((3,2))\n",
    "bin_train_accuracies = np.zeros((3,num_bins))\n",
    "bin_test_accuracies = np.zeros((3,num_bins))"
   ]
  },
  {
   "cell_type": "code",
   "execution_count": 122,
   "metadata": {
    "collapsed": false
   },
   "outputs": [
    {
     "data": {
      "text/plain": [
       "array([ 0.13571429,  0.17142857,  0.1       ,  0.15      ,  0.21428571,\n",
       "        0.28571429,  0.32857143,  0.30714286,  0.35      ,  0.37857143])"
      ]
     },
     "execution_count": 122,
     "metadata": {},
     "output_type": "execute_result"
    }
   ],
   "source": [
    "np.sum(bin_class_tp,0)/np.sum(bin_class_actual,0)"
   ]
  },
  {
   "cell_type": "code",
   "execution_count": 76,
   "metadata": {
    "collapsed": false
   },
   "outputs": [],
   "source": [
    "from matplotlib.ticker import FuncFormatter\n",
    "\n",
    "def to_percent(y, position):\n",
    "    # Ignore the passed in position. This has the effect of scaling the default\n",
    "    # tick locations.\n",
    "    s = str(100 * y)\n",
    "\n",
    "    # The percent symbol needs escaping in latex\n",
    "    if plt.rcParams['text.usetex'] is True:\n",
    "        return s + r'$\\%$'\n",
    "    else:\n",
    "        return s + '%'\n",
    "    \n",
    "formatter = FuncFormatter(to_percent)\n",
    "\n",
    "# Set the formatter\n"
   ]
  },
  {
   "cell_type": "code",
   "execution_count": 71,
   "metadata": {
    "collapsed": false
   },
   "outputs": [],
   "source": [
    "bin_labs=['500-550ms','550-600ms','600-650ms','650-700ms','700-750ms','750-800ms','800-850ms','850-900ms','900-950ms','950-1000ms']\n",
    "bin_labs=['50ms','100ms','150ms','200ms','250ms','300ms','350ms','400ms','450ms','500ms']"
   ]
  },
  {
   "cell_type": "code",
   "execution_count": 249,
   "metadata": {
    "collapsed": false
   },
   "outputs": [
    {
     "name": "stdout",
     "output_type": "stream",
     "text": [
      "Using matplotlib backend: Qt5Agg\n"
     ]
    }
   ],
   "source": [
    "%matplotlib auto"
   ]
  },
  {
   "cell_type": "code",
   "execution_count": 203,
   "metadata": {
    "collapsed": false
   },
   "outputs": [
    {
     "data": {
      "text/plain": [
       "array([-0.00364168, -0.0041055 ,  0.00011012,  0.00297117,  0.00130196,\n",
       "       -0.00353156,  0.00071987,  0.00316809, -0.00205709, -0.0014392 ])"
      ]
     },
     "execution_count": 203,
     "metadata": {},
     "output_type": "execute_result"
    }
   ],
   "source": [
    "np.sum(tot_sec_tp,0)/np.sum(tot_counts,0) - np.mean(tot_sec_tp/tot_counts,0)"
   ]
  },
  {
   "cell_type": "code",
   "execution_count": 221,
   "metadata": {
    "collapsed": false
   },
   "outputs": [
    {
     "data": {
      "text/plain": [
       "<Container object of 7 artists>"
      ]
     },
     "execution_count": 221,
     "metadata": {},
     "output_type": "execute_result"
    }
   ],
   "source": [
    "plt.bar(np.arange(7),np.arange(7),color = stim_colors)"
   ]
  },
  {
   "cell_type": "code",
   "execution_count": 225,
   "metadata": {
    "collapsed": false
   },
   "outputs": [],
   "source": [
    "plt.plot(np.mean(tot_tp/tot_counts,0)-(1./7.),'-o',color = stim_colors[3],label='First Prediction Average')\n",
    "plt.plot(np.mean(tot_sec_tp/tot_counts,0)-(2./7.),'--o',color = stim_colors[3],label='First or Second Prediction Average')\n",
    "\n",
    "plt.plot(np.max(tot_tp/tot_counts,0)-(1./7.),'-o',color = stim_colors[1],label='First Prediction Maximum')\n",
    "\n",
    "plt.plot(np.max(tot_sec_tp/tot_counts,0)-(2./7.),'--o',color = stim_colors[1],label='First or Second Prediction Maximum')\n",
    "plt.gca().yaxis.set_major_formatter(formatter)\n",
    "plt.xticks(np.arange(10),bin_labs)\n",
    "plt.ylabel(\"Percent of runs correctly classified above chance\")\n",
    "plt.xlabel(\"Time after stimulus was shown\")\n",
    "plt.legend()\n",
    "plt.title(\"Average and Maximum Percent Accuracy Above Chance\")\n",
    "\n",
    "plt.show()"
   ]
  },
  {
   "cell_type": "code",
   "execution_count": 206,
   "metadata": {
    "collapsed": false
   },
   "outputs": [],
   "source": [
    "plt.plot(np.max(tot_tp/tot_counts,0)-(1./7.),'-o',label='First Prediction')\n",
    "\n",
    "plt.plot(np.max(tot_sec_tp/tot_counts,0)-(2./7.),'-o',label='First or Second Prediction')\n",
    "plt.gca().yaxis.set_major_formatter(formatter)\n",
    "plt.xticks(np.arange(10),bin_labs)\n",
    "plt.ylabel(\"Percent of runs correctly classified above chance\")\n",
    "plt.xlabel(\"Time after stimulus was shown\")\n",
    "plt.legend()\n",
    "plt.title(\"Maximum Percent Accuracy Above Chance\")\n",
    "\n",
    "plt.show()"
   ]
  },
  {
   "cell_type": "code",
   "execution_count": 183,
   "metadata": {
    "collapsed": false
   },
   "outputs": [
    {
     "name": "stdout",
     "output_type": "stream",
     "text": [
      "Using matplotlib backend: Qt5Agg\n"
     ]
    }
   ],
   "source": [
    "%matplotlib auto"
   ]
  },
  {
   "cell_type": "code",
   "execution_count": 119,
   "metadata": {
    "collapsed": false
   },
   "outputs": [
    {
     "name": "stdout",
     "output_type": "stream",
     "text": [
      "[ 0.152  0.143  0.124  0.162  0.2    0.324  0.352  0.333  0.362  0.381]\n",
      "[ 0.152  0.143  0.124  0.162  0.2    0.324  0.352  0.333  0.362  0.381]\n",
      "[ 0.387  0.371  0.333  0.408  0.47   0.63   0.659  0.64   0.667  0.684]\n"
     ]
    },
    {
     "data": {
      "image/png": "[encoded data removed]",
      "text/plain": [
       "<matplotlib.figure.Figure at 0xe131e48>"
      ]
     },
     "metadata": {},
     "output_type": "display_data"
    }
   ],
   "source": [
    "per_bin_accuracy=np.sum((tot_tp+tot_tn)/(tot_tp+tot_tn+tot_fp+tot_fn),0)/7\n",
    "per_bin_precision = np.sum(tot_tp,0)/np.sum(tot_tp+tot_fp,0)\n",
    "per_bin_recall = np.sum(tot_tp,0)/np.sum(tot_tp+tot_fn,0)\n",
    "print(np.round(per_bin_precision,3))\n",
    "print(np.round(per_bin_recall,3))\n",
    "print(np.round(per_bin_accuracy,3))\n",
    "[plt.plot(x) for x in [per_bin_accuracy,per_bin_precision,per_bin_recall]]\n",
    "plt.show()"
   ]
  },
  {
   "cell_type": "code",
   "execution_count": 20,
   "metadata": {
    "collapsed": false
   },
   "outputs": [],
   "source": [
    "for train_index, test_index in kf.split(np.arange(419)):\n",
    "    train_ind = train_index\n",
    "    test_ind = test_index\n",
    "    \n",
    "[train_tpr_bin,train_tpr,bin_class_tp,bin_class_fp, bin_class_tn,bin_class_fn,\n",
    "     bin_class_actual,bin_class_sec_tp,T_test,Y_test] = trainAndTestOnSubsetOfCases(train_ind, test_ind)"
   ]
  },
  {
   "cell_type": "code",
   "execution_count": 145,
   "metadata": {
    "collapsed": false
   },
   "outputs": [
    {
     "data": {
      "text/plain": [
       "(array(['car', 'couch', 'face', 'flower', 'guitar', 'hand', 'kiwi'], \n",
       "       dtype='|S15'), array([36, 41, 41, 41, 38, 42, 40], dtype=int64))"
      ]
     },
     "execution_count": 145,
     "metadata": {},
     "output_type": "execute_result"
    }
   ],
   "source": [
    "np.unique(data_exp_decay_1018['stimulus_id'][0][train], return_counts=True)"
   ]
  },
  {
   "cell_type": "code",
   "execution_count": 144,
   "metadata": {
    "collapsed": false
   },
   "outputs": [
    {
     "data": {
      "text/plain": [
       "39"
      ]
     },
     "execution_count": 144,
     "metadata": {},
     "output_type": "execute_result"
    }
   ],
   "source": [
    "int(419*2/3)/7"
   ]
  },
  {
   "cell_type": "code",
   "execution_count": 158,
   "metadata": {
    "collapsed": false
   },
   "outputs": [
    {
     "data": {
      "text/plain": [
       "(array(['car', 'couch', 'face', 'flower', 'guitar', 'hand', 'kiwi'], \n",
       "       dtype='|S15'), array([38, 41, 42, 39, 37, 40, 42], dtype=int64))"
      ]
     },
     "execution_count": 158,
     "metadata": {},
     "output_type": "execute_result"
    }
   ],
   "source": [
    "train = np.random.choice(np.arange(419), size = int(419*2/3), replace=False)\n",
    "test = []\n",
    "for x in np.arange(419):\n",
    "    if x not in train:\n",
    "        test.append(x)\n",
    "test = np.array(test)\n",
    "np.unique(data_exp_decay_1018['stimulus_id'][0][train], return_counts=True)"
   ]
  },
  {
   "cell_type": "code",
   "execution_count": 181,
   "metadata": {
    "collapsed": false
   },
   "outputs": [
    {
     "name": "stdout",
     "output_type": "stream",
     "text": [
      "[ 0.12  0.12  0.11  0.14  0.25  0.3   0.35  0.36  0.39  0.45]\n"
     ]
    }
   ],
   "source": [
    "print(np.round((np.mean(tot_tp/tot_counts,0)),2))\n",
    "#print((np.max(tot_tp/tot_counts,0)))"
   ]
  },
  {
   "cell_type": "code",
   "execution_count": 159,
   "metadata": {
    "collapsed": false,
    "scrolled": true
   },
   "outputs": [
    {
     "name": "stdout",
     "output_type": "stream",
     "text": [
      "0\n",
      "Train: [ 0.18  0.19  0.16  0.17  0.17  0.18  0.19  0.19  0.18  0.17]\n",
      "Test: [ 0.04  0.04  0.04  0.05  0.08  0.1   0.12  0.12  0.13  0.15]\n",
      "Train, Test Maximum Accuracy: [ 0.19  0.15]\n",
      "First or Second bin accuracy: [ 0.26  0.31  0.32  0.34  0.41  0.51  0.56  0.61  0.62  0.6 ]\n",
      "Test Change: -0.258033573141\n",
      "This took 0.924216663837 minutes\n"
     ]
    },
    {
     "data": {
      "text/html": [
       "\n",
       "                <audio controls=\"controls\" autoplay=\"autoplay\">\n",
       "                    <source src=\"chime.wav\" type=\"audio/wav\" />\n",
       "                    Your browser does not support the audio element.\n",
       "                </audio>\n",
       "              "
      ],
      "text/plain": [
       "<IPython.lib.display.Audio object>"
      ]
     },
     "execution_count": 159,
     "metadata": {},
     "output_type": "execute_result"
    }
   ],
   "source": [
    "start = time()\n",
    "i=0\n",
    "tot_fp = np.zeros((7,num_bins))\n",
    "tot_fn = np.zeros((7,num_bins))\n",
    "tot_tn = np.zeros((7,num_bins))\n",
    "tot_tp = np.zeros((7,num_bins))\n",
    "tot_counts = np.zeros((7,num_bins))\n",
    "tot_sec_tp = np.zeros((7,num_bins))\n",
    "for train_index, test_index in [[train,test]]:\n",
    "    [train_tpr_bin,train_tpr,bin_class_tp,bin_class_fp, bin_class_tn,bin_class_fn,\n",
    "     bin_class_actual,bin_class_sec_tp,T_test,Y_test] = trainAndTestOnSubsetOfCases(train_index, test_index)\n",
    "    tot_tp+=bin_class_tp\n",
    "    tot_fp+=bin_class_fp\n",
    "    tot_tn+=bin_class_tn\n",
    "    tot_fn+=bin_class_fn\n",
    "    tot_counts+=bin_class_actual\n",
    "    tot_sec_tp+=bin_class_sec_tp\n",
    "    tot_accuracies[i,:] = [train_tpr,max(np.sum(bin_class_tp,0)/np.sum(bin_class_actual,0))]\n",
    "    bin_train_accuracies[i,:] = train_tpr_bin\n",
    "    bin_test_accuracies[i,:] = np.sum(bin_class_tp,0)/np.sum(bin_class_actual,0)\n",
    "    print(i)\n",
    "    i+=1\n",
    "    \n",
    "bin_train_acc = np.mean(bin_train_accuracies,axis=0)\n",
    "bin_test_acc = np.mean(bin_test_accuracies,axis=0)\n",
    "[avg_train_acc,avg_test_acc] = np.mean(tot_accuracies,axis=0)\n",
    "print(\"Train: \"+str(np.round(bin_train_acc,2))+'\\n'+\"Test: \"+str(np.round(bin_test_acc,2)))\n",
    "print(\"Train, Test Maximum Accuracy: \"+str(np.round(np.mean(tot_accuracies,axis=0),2)))\n",
    "print(\"First or Second bin accuracy: \"+str(np.round(np.sum(tot_sec_tp,0)/np.sum(tot_counts,0),2)))\n",
    "print(\"Test Change: \"+str(avg_test_acc-max_tot_test_corr))\n",
    "print(\"This took \"+str((time()-start)/60)+\" minutes\")\n",
    "Audio(url='chime.wav', autoplay=True)"
   ]
  },
  {
   "cell_type": "code",
   "execution_count": null,
   "metadata": {
    "collapsed": false
   },
   "outputs": [],
   "source": [
    "parameter_names = ['scale_input_data','num_bins','res_size','scale_res','alpha','scale_in','scale_b','scale_noise',\n",
    "                   'exp_decay_rate','avg_train_acc','bin_train_acc','avg_test_acc','bin_test_acc']\n",
    "parameter_vals = [scale_input_data,num_bins,res_size,scale_res,alpha,scale_in,scale_b,\n",
    "                  scale_noise,exp_decay_rate,avg_train_acc,bin_train_acc,avg_test_acc,bin_test_acc]\n",
    "dfm = dfm.append(dict(zip(parameter_names,parameter_vals)),ignore_index=True)"
   ]
  },
  {
   "cell_type": "code",
   "execution_count": null,
   "metadata": {
    "collapsed": false
   },
   "outputs": [],
   "source": [
    "dfm.to_csv('parameter_history.csv')"
   ]
  },
  {
   "cell_type": "code",
   "execution_count": null,
   "metadata": {
    "collapsed": false
   },
   "outputs": [],
   "source": [
    "dfm.tail(3)"
   ]
  },
  {
   "cell_type": "code",
   "execution_count": null,
   "metadata": {
    "collapsed": false,
    "scrolled": true
   },
   "outputs": [],
   "source": [
    "dfm.sort_values('avg_test_acc',ascending=False)"
   ]
  },
  {
   "cell_type": "code",
   "execution_count": null,
   "metadata": {
    "collapsed": false,
    "scrolled": true
   },
   "outputs": [],
   "source": [
    "inv_leg = Rectangle((0, 0), 0, 0, alpha=0.0)\n",
    "\n",
    "f, ((ax1,ax2,ax3), (ax4,ax5,ax6)) = plt.subplots(2,3)\n",
    "[ax1.plot(np.arange(1000,4000),X[i,1000:4000]) for i in np.arange(1,5)]\n",
    "ax1.set_title(\"Subset Reservoir Dynamics 1-4\")\n",
    "\n",
    "ax4.bar(np.arange(len(bin_corr)),bin_corr)\n",
    "ax4.set_title(\"Training Accuracy Per Bin\")\n",
    "ax4.set_ylim([0,1])\n",
    "\n",
    "[ax2.plot(np.arange(0,10000),T[i,0:10000],c=rep_stim_colors[i],label = rep_labs[i],ls=':') for i in np.arange(7*num_bins)]\n",
    "[ax2.plot(np.arange(0,10000),Y[i,0:10000],c=rep_stim_colors[i],label = rep_labs[i]) for i in np.arange(7*num_bins)]\n",
    "ax2.set_title(\"Teacher & Training Output - Cases 1-10\")\n",
    "handles, labels = ax2.get_legend_handles_labels()\n",
    "by_label = OrderedDict(zip(labels, handles))\n",
    "ax2.legend(by_label.values(), by_label.keys(), loc=3,\n",
    "           ncol=7, mode=\"expand\", borderaxespad=0., handlelength=0.5,handletextpad =0.0)\n",
    "\n",
    "[ax5.plot(np.arange(10000,20000),T[i,10000:20000],c=rep_stim_colors[i],label = rep_labs[i],ls=':') for i in np.arange(7*num_bins)]\n",
    "[ax5.plot(np.arange(10000,20000),Y[i,10000:20000],c=rep_stim_colors[i],label = rep_labs[i]) for i in np.arange(7*num_bins)]\n",
    "ax5.set_title(\"Teacher & Training Output Cases 11-20\")\n",
    "handles, labels = ax5.get_legend_handles_labels()\n",
    "by_label = OrderedDict(zip(labels, handles))\n",
    "ax5.legend(by_label.values(), by_label.keys(), loc=3,\n",
    "           ncol=7, mode=\"expand\", borderaxespad=0., handlelength=0.5,handletextpad =0.0)\n",
    "\n",
    "\n",
    "[ax3.plot(np.arange(8000,9050),T[i,8000:9050],c=bin_colors[i%num_bins],label = labs[i/num_bins]) for i in np.arange(6*num_bins,7*num_bins)]\n",
    "[ax3.plot(np.arange(8000,9050),Y[i,8000:9050],c=bin_colors[i%num_bins],label = labs[i/num_bins]) for i in np.arange(6*num_bins,7*num_bins)]\n",
    "ax3.set_title(\"8th Train Case Model Output\")\n",
    "handles, labels = ax3.get_legend_handles_labels()\n",
    "by_label = OrderedDict(zip(labels, handles))\n",
    "ax3.legend([inv_leg], by_label.keys(), handlelength=0.)\n",
    "\n",
    "[ax6.plot(np.arange(13000,14050),T[i,13000:14050],c=bin_colors[i%num_bins],label = labs[i/num_bins]) for i in np.arange(4*num_bins,5*num_bins)]\n",
    "[ax6.plot(np.arange(13000,14050),Y[i,13000:14050],c=bin_colors[i%num_bins],label = labs[i/num_bins]) for i in np.arange(4*num_bins,5*num_bins)]\n",
    "ax6.set_title(\"13th Train Case Model Output\")\n",
    "handles, labels = ax6.get_legend_handles_labels()\n",
    "by_label = OrderedDict(zip(labels, handles))\n",
    "ax6.legend([inv_leg], by_label.keys(), handlelength=0.)\n",
    "\n",
    "plt.suptitle('Overall Training Accuracy: '+str(np.round(tot_corr,3)) + \", Change: \"+str(np.round(tot_corr-max_tot_corr,3))+ \n",
    "             \", Time Binned Accuracies: \"+str(np.round(bin_corr,3)))\n",
    "plt.subplots_adjust(left=None, bottom=None, right=None, top=None, wspace=None, hspace=0.4)\n",
    "mng = plt.get_current_fig_manager()\n",
    "mng.window.showMaximized()\n",
    "plt.show()"
   ]
  },
  {
   "cell_type": "code",
   "execution_count": null,
   "metadata": {
    "collapsed": false
   },
   "outputs": [],
   "source": [
    "f, ((ax1,ax2,ax3), (ax4,ax5,ax6)) = plt.subplots(2,3)\n",
    "[ax1.plot(np.arange(1000,4000),X_test[i,1000:4000]) for i in np.arange(1,5)]\n",
    "ax1.set_title(\"Subset Reservoir Dynamics 1-4\")\n",
    "\n",
    "ax4.bar(np.arange(len(bin_test_corr)),bin_test_corr)\n",
    "ax4.set_title(\"Testing Accuracy Per Bin\")\n",
    "ax4.set_ylim([0,1])\n",
    "\n",
    "[ax2.plot(np.arange(0,10000),T_test[i,0:10000],c=rep_stim_colors[i],label = rep_labs[i],ls=':') for i in np.arange(7*num_bins)]\n",
    "[ax2.plot(np.arange(0,10000),Y_test[i,0:10000],c=rep_stim_colors[i],label = rep_labs[i]) for i in np.arange(7*num_bins)]\n",
    "ax2.set_title(\"Teacher & Testing Output - Cases 1-10\")\n",
    "handles, labels = ax2.get_legend_handles_labels()\n",
    "by_label = OrderedDict(zip(labels, handles))\n",
    "ax2.legend(by_label.values(), by_label.keys(), loc=3,\n",
    "           ncol=7, mode=\"expand\", borderaxespad=0., handlelength=0.5,handletextpad =0.0)\n",
    "\n",
    "[ax5.plot(np.arange(10000,20000),T_test[i,10000:20000],c=rep_stim_colors[i],label = rep_labs[i],ls=':') for i in np.arange(7*num_bins)]\n",
    "[ax5.plot(np.arange(10000,20000),Y_test[i,10000:20000],c=rep_stim_colors[i],label = rep_labs[i]) for i in np.arange(7*num_bins)]\n",
    "ax5.set_title(\"Teacher & Testing Output Cases 11-20\")\n",
    "handles, labels = ax5.get_legend_handles_labels()\n",
    "by_label = OrderedDict(zip(labels, handles))\n",
    "ax5.legend(by_label.values(), by_label.keys(), loc=3,\n",
    "           ncol=7, mode=\"expand\", borderaxespad=0., handlelength=0.5,handletextpad =0.0)\n",
    "\n",
    "\n",
    "[ax3.plot(np.arange(5000,6050),T_test[i,5000:6050],\n",
    "          c=bin_colors[i%num_bins],label = labs[i/num_bins]) for i in np.arange(3*num_bins,4*num_bins)]\n",
    "[ax3.plot(np.arange(5000,6050),Y_test[i,5000:6050],\n",
    "          c=bin_colors[i%num_bins],label = labs[i/num_bins]) for i in np.arange(3*num_bins,4*num_bins)]\n",
    "ax3.set_title(\"5th Test Case Model Output\")\n",
    "handles, labels = ax3.get_legend_handles_labels()\n",
    "by_label = OrderedDict(zip(labels, handles))\n",
    "ax3.legend([inv_leg], by_label.keys(), handlelength=0.)\n",
    "\n",
    "[ax6.plot(np.arange(13000,14050),T_test[i,13000:14050],\n",
    "          c=bin_colors[i%num_bins],label = labs[i/num_bins]) for i in np.arange(3*num_bins,4*num_bins)]\n",
    "[ax6.plot(np.arange(13000,14050),Y_test[i,13000:14050],\n",
    "          c=bin_colors[i%num_bins],label = labs[i/num_bins]) for i in np.arange(3*num_bins,4*num_bins)]\n",
    "ax6.set_title(\"13th Test Case Model Output\")\n",
    "handles, labels = ax6.get_legend_handles_labels()\n",
    "by_label = OrderedDict(zip(labels, handles))\n",
    "ax6.legend([inv_leg], by_label.keys(), handlelength=0.)\n",
    "\n",
    "plt.suptitle('Overall Testing Accuracy: '+str(np.round(tot_test_corr,3)) + \", Change: \"+str(np.round(tot_test_corr-max_tot_test_corr,3))+ \n",
    "             \", Time Binned Accuracies: \"+str(np.round(bin_test_corr,3)))\n",
    "plt.subplots_adjust(left=None, bottom=None, right=None, top=None, wspace=None, hspace=0.4)\n",
    "mng = plt.get_current_fig_manager()\n",
    "mng.window.showMaximized()\n",
    "plt.show()"
   ]
  },
  {
   "cell_type": "code",
   "execution_count": null,
   "metadata": {
    "collapsed": true
   },
   "outputs": [],
   "source": []
  }
 ],
 "metadata": {
  "kernelspec": {
   "display_name": "Python 2",
   "language": "python",
   "name": "python2"
  },
  "language_info": {
   "codemirror_mode": {
    "name": "ipython",
    "version": 2
   },
   "file_extension": ".py",
   "mimetype": "text/x-python",
   "name": "python",
   "nbconvert_exporter": "python",
   "pygments_lexer": "ipython2",
   "version": "2.7.12"
  }
 },
 "nbformat": 4,
 "nbformat_minor": 0
}
